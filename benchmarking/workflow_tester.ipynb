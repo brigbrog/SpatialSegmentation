{
 "cells": [
  {
   "cell_type": "code",
   "execution_count": 134,
   "metadata": {},
   "outputs": [
    {
     "name": "stdout",
     "output_type": "stream",
     "text": [
      "The autoreload extension is already loaded. To reload it, use:\n",
      "  %reload_ext autoreload\n"
     ]
    }
   ],
   "source": [
    "import numpy as np\n",
    "import matplotlib.pyplot as plt\n",
    "from control_segmenter import ControlSegmenter\n",
    "from manager import DataManager\n",
    "from comparator import Indicator, Comparator\n",
    "import tifffile\n",
    "\n",
    "%load_ext autoreload\n",
    "%autoreload 2\n",
    "\n",
    "y_win = (6000, 7000)\n",
    "x_win = (9000, 10000)"
   ]
  },
  {
   "cell_type": "code",
   "execution_count": 135,
   "metadata": {},
   "outputs": [
    {
     "name": "stdout",
     "output_type": "stream",
     "text": [
      "Origin Data File:  None\n",
      "Selected Image File:  /Users/brianbrogan/Desktop/KI24/figures/test_slice.tiff\n",
      "Number of params to be analyzed:  4\n",
      "Collected Image from  /Users/brianbrogan/Desktop/KI24/figures/test_slice.tiff  with shape  (1000, 1000)\n",
      "Variable Engine: creating segmentations for dt_percentile : 19 settings\n",
      "controls: [90, 5, 100, 900]\n",
      "var seg method: test_params: [array([80, 81, 82, 83, 84, 85, 86, 87, 88, 89, 90, 91, 92, 93, 94, 95, 96,\n",
      "       97, 98]), 5, 100, 900]\n",
      "params testid: [80 81 82 83 84 85 86 87 88 89 90 91 92 93 94 95 96 97 98]\n",
      "element: 80\n",
      "Engine running... testing setting 80\n",
      "Sifting contours...\n"
     ]
    },
    {
     "name": "stderr",
     "output_type": "stream",
     "text": [
      "Sifting: 100%|██████████| 18/18 [00:00<00:00, 139.81it/s, 18/18]"
     ]
    },
    {
     "name": "stdout",
     "output_type": "stream",
     "text": [
      "10 CELLS FOUND\n",
      "params testid: [80 81 82 83 84 85 86 87 88 89 90 91 92 93 94 95 96 97 98]\n",
      "element: 81\n",
      "Engine running... testing setting 81\n"
     ]
    },
    {
     "name": "stderr",
     "output_type": "stream",
     "text": [
      "\n"
     ]
    },
    {
     "name": "stdout",
     "output_type": "stream",
     "text": [
      "Sifting contours...\n"
     ]
    },
    {
     "name": "stderr",
     "output_type": "stream",
     "text": [
      "Sifting: 100%|██████████| 18/18 [00:00<00:00, 611.64it/s, 18/18]"
     ]
    },
    {
     "name": "stdout",
     "output_type": "stream",
     "text": [
      "10 CELLS FOUND\n"
     ]
    },
    {
     "name": "stderr",
     "output_type": "stream",
     "text": [
      "\n"
     ]
    },
    {
     "name": "stdout",
     "output_type": "stream",
     "text": [
      "params testid: [80 81 82 83 84 85 86 87 88 89 90 91 92 93 94 95 96 97 98]\n",
      "element: 82\n",
      "Engine running... testing setting 82\n",
      "Sifting contours...\n"
     ]
    },
    {
     "name": "stderr",
     "output_type": "stream",
     "text": [
      "Sifting: 100%|██████████| 18/18 [00:00<00:00, 632.51it/s, 18/18]"
     ]
    },
    {
     "name": "stdout",
     "output_type": "stream",
     "text": [
      "10 CELLS FOUND\n"
     ]
    },
    {
     "name": "stderr",
     "output_type": "stream",
     "text": [
      "\n"
     ]
    },
    {
     "name": "stdout",
     "output_type": "stream",
     "text": [
      "params testid: [80 81 82 83 84 85 86 87 88 89 90 91 92 93 94 95 96 97 98]\n",
      "element: 83\n",
      "Engine running... testing setting 83\n",
      "Sifting contours...\n"
     ]
    },
    {
     "name": "stderr",
     "output_type": "stream",
     "text": [
      "Sifting: 100%|██████████| 18/18 [00:00<00:00, 272.25it/s, 18/18]"
     ]
    },
    {
     "name": "stdout",
     "output_type": "stream",
     "text": [
      "10 CELLS FOUND\n"
     ]
    },
    {
     "name": "stderr",
     "output_type": "stream",
     "text": [
      "\n"
     ]
    },
    {
     "name": "stdout",
     "output_type": "stream",
     "text": [
      "params testid: [80 81 82 83 84 85 86 87 88 89 90 91 92 93 94 95 96 97 98]\n",
      "element: 84\n",
      "Engine running... testing setting 84\n",
      "Sifting contours...\n"
     ]
    },
    {
     "name": "stderr",
     "output_type": "stream",
     "text": [
      "Sifting: 100%|██████████| 18/18 [00:00<00:00, 277.40it/s, 18/18]"
     ]
    },
    {
     "name": "stdout",
     "output_type": "stream",
     "text": [
      "10 CELLS FOUND\n"
     ]
    },
    {
     "name": "stderr",
     "output_type": "stream",
     "text": [
      "\n"
     ]
    },
    {
     "name": "stdout",
     "output_type": "stream",
     "text": [
      "params testid: [80 81 82 83 84 85 86 87 88 89 90 91 92 93 94 95 96 97 98]\n",
      "element: 85\n",
      "Engine running... testing setting 85\n",
      "Sifting contours...\n"
     ]
    },
    {
     "name": "stderr",
     "output_type": "stream",
     "text": [
      "Sifting: 100%|██████████| 18/18 [00:00<00:00, 189.06it/s, 18/18]"
     ]
    },
    {
     "name": "stdout",
     "output_type": "stream",
     "text": [
      "10 CELLS FOUND\n"
     ]
    },
    {
     "name": "stderr",
     "output_type": "stream",
     "text": [
      "\n"
     ]
    },
    {
     "name": "stdout",
     "output_type": "stream",
     "text": [
      "params testid: [80 81 82 83 84 85 86 87 88 89 90 91 92 93 94 95 96 97 98]\n",
      "element: 86\n",
      "Engine running... testing setting 86\n",
      "Sifting contours...\n"
     ]
    },
    {
     "name": "stderr",
     "output_type": "stream",
     "text": [
      "Sifting: 100%|██████████| 18/18 [00:00<00:00, 339.54it/s, 18/18]"
     ]
    },
    {
     "name": "stdout",
     "output_type": "stream",
     "text": [
      "10 CELLS FOUND\n"
     ]
    },
    {
     "name": "stderr",
     "output_type": "stream",
     "text": [
      "\n"
     ]
    },
    {
     "name": "stdout",
     "output_type": "stream",
     "text": [
      "params testid: [80 81 82 83 84 85 86 87 88 89 90 91 92 93 94 95 96 97 98]\n",
      "element: 87\n",
      "Engine running... testing setting 87\n",
      "Sifting contours...\n"
     ]
    },
    {
     "name": "stderr",
     "output_type": "stream",
     "text": [
      "Sifting: 100%|██████████| 18/18 [00:00<00:00, 774.06it/s, 18/18]"
     ]
    },
    {
     "name": "stdout",
     "output_type": "stream",
     "text": [
      "10 CELLS FOUND\n"
     ]
    },
    {
     "name": "stderr",
     "output_type": "stream",
     "text": [
      "\n"
     ]
    },
    {
     "name": "stdout",
     "output_type": "stream",
     "text": [
      "params testid: [80 81 82 83 84 85 86 87 88 89 90 91 92 93 94 95 96 97 98]\n",
      "element: 88\n",
      "Engine running... testing setting 88\n",
      "Sifting contours...\n"
     ]
    },
    {
     "name": "stderr",
     "output_type": "stream",
     "text": [
      "Sifting: 100%|██████████| 18/18 [00:00<00:00, 157.88it/s, 18/18]"
     ]
    },
    {
     "name": "stdout",
     "output_type": "stream",
     "text": [
      "10 CELLS FOUND\n"
     ]
    },
    {
     "name": "stderr",
     "output_type": "stream",
     "text": [
      "\n"
     ]
    },
    {
     "name": "stdout",
     "output_type": "stream",
     "text": [
      "params testid: [80 81 82 83 84 85 86 87 88 89 90 91 92 93 94 95 96 97 98]\n",
      "element: 89\n",
      "Engine running... testing setting 89\n",
      "Sifting contours...\n"
     ]
    },
    {
     "name": "stderr",
     "output_type": "stream",
     "text": [
      "Sifting: 100%|██████████| 18/18 [00:00<00:00, 651.87it/s, 18/18]"
     ]
    },
    {
     "name": "stdout",
     "output_type": "stream",
     "text": [
      "10 CELLS FOUND\n"
     ]
    },
    {
     "name": "stderr",
     "output_type": "stream",
     "text": [
      "\n"
     ]
    },
    {
     "name": "stdout",
     "output_type": "stream",
     "text": [
      "params testid: [80 81 82 83 84 85 86 87 88 89 90 91 92 93 94 95 96 97 98]\n",
      "element: 90\n",
      "Engine running... testing setting 90\n",
      "Sifting contours...\n"
     ]
    },
    {
     "name": "stderr",
     "output_type": "stream",
     "text": [
      "Sifting: 100%|██████████| 18/18 [00:00<00:00, 503.98it/s, 18/18]"
     ]
    },
    {
     "name": "stdout",
     "output_type": "stream",
     "text": [
      "10 CELLS FOUND\n"
     ]
    },
    {
     "name": "stderr",
     "output_type": "stream",
     "text": [
      "\n"
     ]
    },
    {
     "name": "stdout",
     "output_type": "stream",
     "text": [
      "params testid: [80 81 82 83 84 85 86 87 88 89 90 91 92 93 94 95 96 97 98]\n",
      "element: 91\n",
      "Engine running... testing setting 91\n",
      "Sifting contours...\n"
     ]
    },
    {
     "name": "stderr",
     "output_type": "stream",
     "text": [
      "Sifting: 100%|██████████| 18/18 [00:00<00:00, 650.50it/s, 18/18]"
     ]
    },
    {
     "name": "stdout",
     "output_type": "stream",
     "text": [
      "10 CELLS FOUND\n",
      "params testid: [80 81 82 83 84 85 86 87 88 89 90 91 92 93 94 95 96 97 98]\n",
      "element: 92\n",
      "Engine running... testing setting 92\n",
      "Sifting contours...\n"
     ]
    },
    {
     "name": "stderr",
     "output_type": "stream",
     "text": [
      "\n",
      "Sifting: 100%|██████████| 18/18 [00:00<00:00, 532.32it/s, 18/18]"
     ]
    },
    {
     "name": "stdout",
     "output_type": "stream",
     "text": [
      "10 CELLS FOUND\n"
     ]
    },
    {
     "name": "stderr",
     "output_type": "stream",
     "text": [
      "\n"
     ]
    },
    {
     "name": "stdout",
     "output_type": "stream",
     "text": [
      "params testid: [80 81 82 83 84 85 86 87 88 89 90 91 92 93 94 95 96 97 98]\n",
      "element: 93\n",
      "Engine running... testing setting 93\n",
      "Sifting contours...\n"
     ]
    },
    {
     "name": "stderr",
     "output_type": "stream",
     "text": [
      "Sifting: 100%|██████████| 18/18 [00:00<00:00, 710.50it/s, 18/18]"
     ]
    },
    {
     "name": "stdout",
     "output_type": "stream",
     "text": [
      "10 CELLS FOUND\n",
      "params testid: [80 81 82 83 84 85 86 87 88 89 90 91 92 93 94 95 96 97 98]\n",
      "element: 94\n",
      "Engine running... testing setting 94\n"
     ]
    },
    {
     "name": "stderr",
     "output_type": "stream",
     "text": [
      "\n"
     ]
    },
    {
     "name": "stdout",
     "output_type": "stream",
     "text": [
      "Sifting contours...\n"
     ]
    },
    {
     "name": "stderr",
     "output_type": "stream",
     "text": [
      "Sifting: 100%|██████████| 18/18 [00:00<00:00, 632.00it/s, 18/18]"
     ]
    },
    {
     "name": "stdout",
     "output_type": "stream",
     "text": [
      "10 CELLS FOUND\n"
     ]
    },
    {
     "name": "stderr",
     "output_type": "stream",
     "text": [
      "\n"
     ]
    },
    {
     "name": "stdout",
     "output_type": "stream",
     "text": [
      "params testid: [80 81 82 83 84 85 86 87 88 89 90 91 92 93 94 95 96 97 98]\n",
      "element: 95\n",
      "Engine running... testing setting 95\n",
      "Sifting contours...\n"
     ]
    },
    {
     "name": "stderr",
     "output_type": "stream",
     "text": [
      "Sifting: 100%|██████████| 18/18 [00:00<00:00, 758.09it/s, 18/18]"
     ]
    },
    {
     "name": "stdout",
     "output_type": "stream",
     "text": [
      "10 CELLS FOUND\n",
      "params testid: [80 81 82 83 84 85 86 87 88 89 90 91 92 93 94 95 96 97 98]\n",
      "element: 96\n",
      "Engine running... testing setting 96\n",
      "Sifting contours...\n"
     ]
    },
    {
     "name": "stderr",
     "output_type": "stream",
     "text": [
      "\n",
      "Sifting: 100%|██████████| 18/18 [00:00<00:00, 195.72it/s, 18/18]"
     ]
    },
    {
     "name": "stdout",
     "output_type": "stream",
     "text": [
      "10 CELLS FOUND\n"
     ]
    },
    {
     "name": "stderr",
     "output_type": "stream",
     "text": [
      "\n"
     ]
    },
    {
     "name": "stdout",
     "output_type": "stream",
     "text": [
      "params testid: [80 81 82 83 84 85 86 87 88 89 90 91 92 93 94 95 96 97 98]\n",
      "element: 97\n",
      "Engine running... testing setting 97\n",
      "Sifting contours...\n"
     ]
    },
    {
     "name": "stderr",
     "output_type": "stream",
     "text": [
      "Sifting: 100%|██████████| 18/18 [00:00<00:00, 653.00it/s, 18/18]"
     ]
    },
    {
     "name": "stdout",
     "output_type": "stream",
     "text": [
      "10 CELLS FOUND\n"
     ]
    },
    {
     "name": "stderr",
     "output_type": "stream",
     "text": [
      "\n"
     ]
    },
    {
     "name": "stdout",
     "output_type": "stream",
     "text": [
      "params testid: [80 81 82 83 84 85 86 87 88 89 90 91 92 93 94 95 96 97 98]\n",
      "element: 98\n",
      "Engine running... testing setting 98\n",
      "Sifting contours...\n"
     ]
    },
    {
     "name": "stderr",
     "output_type": "stream",
     "text": [
      "Sifting: 100%|██████████| 18/18 [00:00<00:00, 590.40it/s, 18/18]"
     ]
    },
    {
     "name": "stdout",
     "output_type": "stream",
     "text": [
      "10 CELLS FOUND\n"
     ]
    },
    {
     "name": "stderr",
     "output_type": "stream",
     "text": [
      "\n"
     ]
    },
    {
     "name": "stdout",
     "output_type": "stream",
     "text": [
      "Variable Engine: creating segmentations for dilation_kernel_size : 6 settings\n",
      "controls: [90, 5, 100, 900]\n",
      "var seg method: test_params: [90, array([2, 3, 4, 5, 6, 7], dtype=uint8), 100, 900]\n",
      "params testid: [2 3 4 5 6 7]\n",
      "element: 2\n",
      "Engine running... testing setting 2\n",
      "Sifting contours...\n"
     ]
    },
    {
     "name": "stderr",
     "output_type": "stream",
     "text": [
      "Sifting: 100%|██████████| 18/18 [00:00<00:00, 608.54it/s, 18/18]"
     ]
    },
    {
     "name": "stdout",
     "output_type": "stream",
     "text": [
      "10 CELLS FOUND\n",
      "params testid: [2 3 4 5 6 7]\n",
      "element: 3\n",
      "Engine running... testing setting 3\n"
     ]
    },
    {
     "name": "stderr",
     "output_type": "stream",
     "text": [
      "\n"
     ]
    },
    {
     "name": "stdout",
     "output_type": "stream",
     "text": [
      "Sifting contours...\n"
     ]
    },
    {
     "name": "stderr",
     "output_type": "stream",
     "text": [
      "Sifting: 100%|██████████| 18/18 [00:00<00:00, 624.61it/s, 18/18]"
     ]
    },
    {
     "name": "stdout",
     "output_type": "stream",
     "text": [
      "10 CELLS FOUND\n",
      "params testid: [2 3 4 5 6 7]\n",
      "element: 4\n",
      "Engine running... testing setting 4\n",
      "Sifting contours...\n"
     ]
    },
    {
     "name": "stderr",
     "output_type": "stream",
     "text": [
      "\n",
      "Sifting: 100%|██████████| 18/18 [00:00<00:00, 495.65it/s, 18/18]"
     ]
    },
    {
     "name": "stdout",
     "output_type": "stream",
     "text": [
      "10 CELLS FOUND\n"
     ]
    },
    {
     "name": "stderr",
     "output_type": "stream",
     "text": [
      "\n"
     ]
    },
    {
     "name": "stdout",
     "output_type": "stream",
     "text": [
      "params testid: [2 3 4 5 6 7]\n",
      "element: 5\n",
      "Engine running... testing setting 5\n",
      "Sifting contours...\n"
     ]
    },
    {
     "name": "stderr",
     "output_type": "stream",
     "text": [
      "Sifting: 100%|██████████| 18/18 [00:00<00:00, 372.35it/s, 18/18]"
     ]
    },
    {
     "name": "stdout",
     "output_type": "stream",
     "text": [
      "10 CELLS FOUND\n"
     ]
    },
    {
     "name": "stderr",
     "output_type": "stream",
     "text": [
      "\n"
     ]
    },
    {
     "name": "stdout",
     "output_type": "stream",
     "text": [
      "params testid: [2 3 4 5 6 7]\n",
      "element: 6\n",
      "Engine running... testing setting 6\n",
      "Sifting contours...\n"
     ]
    },
    {
     "name": "stderr",
     "output_type": "stream",
     "text": [
      "Sifting: 100%|██████████| 18/18 [00:00<00:00, 649.56it/s, 18/18]"
     ]
    },
    {
     "name": "stdout",
     "output_type": "stream",
     "text": [
      "10 CELLS FOUND\n",
      "params testid: [2 3 4 5 6 7]\n",
      "element: 7\n",
      "Engine running... testing setting 7\n",
      "Sifting contours...\n"
     ]
    },
    {
     "name": "stderr",
     "output_type": "stream",
     "text": [
      "\n",
      "Sifting: 100%|██████████| 18/18 [00:00<00:00, 124.39it/s, 18/18]"
     ]
    },
    {
     "name": "stdout",
     "output_type": "stream",
     "text": [
      "10 CELLS FOUND\n",
      "Variable Engine: creating segmentations for minimum_cell_area : 7 settings\n",
      "controls: [90, 5, 100, 900]\n",
      "var seg method: test_params: [90, 5, array([ 50,  75, 100, 125, 150, 175, 200]), 900]\n",
      "params testid: [ 50  75 100 125 150 175 200]\n",
      "element: 50\n",
      "Engine running... testing setting 50\n"
     ]
    },
    {
     "name": "stderr",
     "output_type": "stream",
     "text": [
      "\n"
     ]
    },
    {
     "name": "stdout",
     "output_type": "stream",
     "text": [
      "Sifting contours...\n"
     ]
    },
    {
     "name": "stderr",
     "output_type": "stream",
     "text": [
      "Sifting: 100%|██████████| 18/18 [00:00<00:00, 509.64it/s, 18/18]"
     ]
    },
    {
     "name": "stdout",
     "output_type": "stream",
     "text": [
      "10 CELLS FOUND\n"
     ]
    },
    {
     "name": "stderr",
     "output_type": "stream",
     "text": [
      "\n"
     ]
    },
    {
     "name": "stdout",
     "output_type": "stream",
     "text": [
      "params testid: [ 50  75 100 125 150 175 200]\n",
      "element: 75\n",
      "Engine running... testing setting 75\n",
      "Sifting contours...\n"
     ]
    },
    {
     "name": "stderr",
     "output_type": "stream",
     "text": [
      "Sifting: 100%|██████████| 18/18 [00:00<00:00, 557.93it/s, 18/18]"
     ]
    },
    {
     "name": "stdout",
     "output_type": "stream",
     "text": [
      "10 CELLS FOUND\n"
     ]
    },
    {
     "name": "stderr",
     "output_type": "stream",
     "text": [
      "\n"
     ]
    },
    {
     "name": "stdout",
     "output_type": "stream",
     "text": [
      "params testid: [ 50  75 100 125 150 175 200]\n",
      "element: 100\n",
      "Engine running... testing setting 100\n",
      "Sifting contours...\n"
     ]
    },
    {
     "name": "stderr",
     "output_type": "stream",
     "text": [
      "Sifting: 100%|██████████| 18/18 [00:00<00:00, 653.19it/s, 18/18]"
     ]
    },
    {
     "name": "stdout",
     "output_type": "stream",
     "text": [
      "10 CELLS FOUND\n",
      "params testid: [ 50  75 100 125 150 175 200]\n",
      "element: 125\n",
      "Engine running... testing setting 125\n",
      "Sifting contours...\n"
     ]
    },
    {
     "name": "stderr",
     "output_type": "stream",
     "text": [
      "\n",
      "Sifting: 100%|██████████| 18/18 [00:00<00:00, 406.14it/s, 18/18]"
     ]
    },
    {
     "name": "stdout",
     "output_type": "stream",
     "text": [
      "10 CELLS FOUND\n",
      "params testid: [ 50  75 100 125 150 175 200]\n",
      "element: 150\n",
      "Engine running... testing setting 150\n"
     ]
    },
    {
     "name": "stderr",
     "output_type": "stream",
     "text": [
      "\n"
     ]
    },
    {
     "name": "stdout",
     "output_type": "stream",
     "text": [
      "Sifting contours...\n"
     ]
    },
    {
     "name": "stderr",
     "output_type": "stream",
     "text": [
      "Sifting: 100%|██████████| 18/18 [00:00<00:00, 180.62it/s, 18/18]"
     ]
    },
    {
     "name": "stdout",
     "output_type": "stream",
     "text": [
      "10 CELLS FOUND\n",
      "params testid: [ 50  75 100 125 150 175 200]\n",
      "element: 175\n",
      "Engine running... testing setting 175\n",
      "Sifting contours...\n"
     ]
    },
    {
     "name": "stderr",
     "output_type": "stream",
     "text": [
      "\n",
      "Sifting: 100%|██████████| 18/18 [00:00<00:00, 606.10it/s, 18/18]"
     ]
    },
    {
     "name": "stdout",
     "output_type": "stream",
     "text": [
      "9 CELLS FOUND\n"
     ]
    },
    {
     "name": "stderr",
     "output_type": "stream",
     "text": [
      "\n"
     ]
    },
    {
     "name": "stdout",
     "output_type": "stream",
     "text": [
      "params testid: [ 50  75 100 125 150 175 200]\n",
      "element: 200\n",
      "Engine running... testing setting 200\n",
      "Sifting contours...\n"
     ]
    },
    {
     "name": "stderr",
     "output_type": "stream",
     "text": [
      "Sifting: 100%|██████████| 18/18 [00:00<00:00, 478.88it/s, 18/18]"
     ]
    },
    {
     "name": "stdout",
     "output_type": "stream",
     "text": [
      "9 CELLS FOUND\n",
      "Variable Engine: creating segmentations for maximum_cell_area : 7 settings\n",
      "controls: [90, 5, 100, 900]\n",
      "var seg method: test_params: [90, 5, 100, array([ 850,  875,  900,  925,  950,  975, 1000])]\n",
      "params testid: [ 850  875  900  925  950  975 1000]\n",
      "element: 850\n",
      "Engine running... testing setting 850\n",
      "Sifting contours...\n"
     ]
    },
    {
     "name": "stderr",
     "output_type": "stream",
     "text": [
      "\n",
      "Sifting: 100%|██████████| 18/18 [00:00<00:00, 666.17it/s, 18/18]"
     ]
    },
    {
     "name": "stdout",
     "output_type": "stream",
     "text": [
      "9 CELLS FOUND\n",
      "params testid: [ 850  875  900  925  950  975 1000]\n"
     ]
    },
    {
     "name": "stderr",
     "output_type": "stream",
     "text": [
      "\n"
     ]
    },
    {
     "name": "stdout",
     "output_type": "stream",
     "text": [
      "element: 875\n",
      "Engine running... testing setting 875\n",
      "Sifting contours...\n"
     ]
    },
    {
     "name": "stderr",
     "output_type": "stream",
     "text": [
      "Sifting: 100%|██████████| 18/18 [00:00<00:00, 593.06it/s, 18/18]"
     ]
    },
    {
     "name": "stdout",
     "output_type": "stream",
     "text": [
      "9 CELLS FOUND\n",
      "params testid: [ 850  875  900  925  950  975 1000]\n",
      "element: 900\n",
      "Engine running... testing setting 900\n",
      "Sifting contours...\n"
     ]
    },
    {
     "name": "stderr",
     "output_type": "stream",
     "text": [
      "\n",
      "Sifting: 100%|██████████| 18/18 [00:00<00:00, 447.69it/s, 18/18]"
     ]
    },
    {
     "name": "stdout",
     "output_type": "stream",
     "text": [
      "10 CELLS FOUND\n",
      "params testid: [ 850  875  900  925  950  975 1000]\n",
      "element: 925\n",
      "Engine running... testing setting 925\n"
     ]
    },
    {
     "name": "stderr",
     "output_type": "stream",
     "text": [
      "\n"
     ]
    },
    {
     "name": "stdout",
     "output_type": "stream",
     "text": [
      "Sifting contours...\n"
     ]
    },
    {
     "name": "stderr",
     "output_type": "stream",
     "text": [
      "Sifting: 100%|██████████| 18/18 [00:00<00:00, 123.45it/s, 18/18]"
     ]
    },
    {
     "name": "stdout",
     "output_type": "stream",
     "text": [
      "10 CELLS FOUND\n",
      "params testid: [ 850  875  900  925  950  975 1000]\n",
      "element: 950\n",
      "Engine running... testing setting 950\n"
     ]
    },
    {
     "name": "stderr",
     "output_type": "stream",
     "text": [
      "\n"
     ]
    },
    {
     "name": "stdout",
     "output_type": "stream",
     "text": [
      "Sifting contours...\n"
     ]
    },
    {
     "name": "stderr",
     "output_type": "stream",
     "text": [
      "Sifting: 100%|██████████| 18/18 [00:00<00:00, 184.88it/s, 18/18]"
     ]
    },
    {
     "name": "stdout",
     "output_type": "stream",
     "text": [
      "10 CELLS FOUND\n"
     ]
    },
    {
     "name": "stderr",
     "output_type": "stream",
     "text": [
      "\n"
     ]
    },
    {
     "name": "stdout",
     "output_type": "stream",
     "text": [
      "params testid: [ 850  875  900  925  950  975 1000]\n",
      "element: 975\n",
      "Engine running... testing setting 975\n",
      "Sifting contours...\n"
     ]
    },
    {
     "name": "stderr",
     "output_type": "stream",
     "text": [
      "Sifting: 100%|██████████| 18/18 [00:00<00:00, 403.32it/s, 18/18]"
     ]
    },
    {
     "name": "stdout",
     "output_type": "stream",
     "text": [
      "11 CELLS FOUND\n",
      "params testid: [ 850  875  900  925  950  975 1000]\n",
      "element: 1000\n",
      "Engine running... testing setting 1000\n",
      "Sifting contours...\n"
     ]
    },
    {
     "name": "stderr",
     "output_type": "stream",
     "text": [
      "\n",
      "Sifting: 100%|██████████| 18/18 [00:00<00:00, 146.91it/s, 18/18]"
     ]
    },
    {
     "name": "stdout",
     "output_type": "stream",
     "text": [
      "11 CELLS FOUND\n",
      "Creating exports...\n"
     ]
    },
    {
     "name": "stderr",
     "output_type": "stream",
     "text": [
      "\n"
     ]
    },
    {
     "name": "stdout",
     "output_type": "stream",
     "text": [
      "Done.\n",
      "<class 'pandas.core.frame.DataFrame'>\n",
      "RangeIndex: 39 entries, 0 to 38\n",
      "Data columns (total 8 columns):\n",
      " #   Column                Non-Null Count  Dtype \n",
      "---  ------                --------------  ----- \n",
      " 0   test_paramID          39 non-null     object\n",
      " 1   num_cells             39 non-null     int64 \n",
      " 2   dt_percentile         39 non-null     int64 \n",
      " 3   dilation_kernel_size  39 non-null     int64 \n",
      " 4   minimum_cell_area     39 non-null     int64 \n",
      " 5   maximum_cell_area     39 non-null     int64 \n",
      " 6   markers               39 non-null     object\n",
      " 7   contours              39 non-null     object\n",
      "dtypes: int64(5), object(3)\n",
      "memory usage: 2.6+ KB\n",
      "None\n"
     ]
    },
    {
     "data": {
      "text/html": [
       "<div>\n",
       "<style scoped>\n",
       "    .dataframe tbody tr th:only-of-type {\n",
       "        vertical-align: middle;\n",
       "    }\n",
       "\n",
       "    .dataframe tbody tr th {\n",
       "        vertical-align: top;\n",
       "    }\n",
       "\n",
       "    .dataframe thead th {\n",
       "        text-align: right;\n",
       "    }\n",
       "</style>\n",
       "<table border=\"1\" class=\"dataframe\">\n",
       "  <thead>\n",
       "    <tr style=\"text-align: right;\">\n",
       "      <th></th>\n",
       "      <th>test_paramID</th>\n",
       "      <th>num_cells</th>\n",
       "      <th>dt_percentile</th>\n",
       "      <th>dilation_kernel_size</th>\n",
       "      <th>minimum_cell_area</th>\n",
       "      <th>maximum_cell_area</th>\n",
       "      <th>markers</th>\n",
       "      <th>contours</th>\n",
       "    </tr>\n",
       "  </thead>\n",
       "  <tbody>\n",
       "    <tr>\n",
       "      <th>0</th>\n",
       "      <td>dt_percentile0</td>\n",
       "      <td>10</td>\n",
       "      <td>80</td>\n",
       "      <td>5</td>\n",
       "      <td>100</td>\n",
       "      <td>900</td>\n",
       "      <td>[[-1, -1, -1, -1, -1, -1, -1, -1, -1, -1, -1, ...</td>\n",
       "      <td>[[[[986, 28]], [[985, 29]], [[984, 29]], [[983...</td>\n",
       "    </tr>\n",
       "    <tr>\n",
       "      <th>1</th>\n",
       "      <td>dt_percentile1</td>\n",
       "      <td>10</td>\n",
       "      <td>81</td>\n",
       "      <td>5</td>\n",
       "      <td>100</td>\n",
       "      <td>900</td>\n",
       "      <td>[[-1, -1, -1, -1, -1, -1, -1, -1, -1, -1, -1, ...</td>\n",
       "      <td>[[[[986, 28]], [[985, 29]], [[984, 29]], [[983...</td>\n",
       "    </tr>\n",
       "    <tr>\n",
       "      <th>2</th>\n",
       "      <td>dt_percentile2</td>\n",
       "      <td>10</td>\n",
       "      <td>82</td>\n",
       "      <td>5</td>\n",
       "      <td>100</td>\n",
       "      <td>900</td>\n",
       "      <td>[[-1, -1, -1, -1, -1, -1, -1, -1, -1, -1, -1, ...</td>\n",
       "      <td>[[[[986, 28]], [[985, 29]], [[984, 29]], [[983...</td>\n",
       "    </tr>\n",
       "    <tr>\n",
       "      <th>3</th>\n",
       "      <td>dt_percentile3</td>\n",
       "      <td>10</td>\n",
       "      <td>83</td>\n",
       "      <td>5</td>\n",
       "      <td>100</td>\n",
       "      <td>900</td>\n",
       "      <td>[[-1, -1, -1, -1, -1, -1, -1, -1, -1, -1, -1, ...</td>\n",
       "      <td>[[[[986, 28]], [[985, 29]], [[984, 29]], [[983...</td>\n",
       "    </tr>\n",
       "    <tr>\n",
       "      <th>4</th>\n",
       "      <td>dt_percentile4</td>\n",
       "      <td>10</td>\n",
       "      <td>84</td>\n",
       "      <td>5</td>\n",
       "      <td>100</td>\n",
       "      <td>900</td>\n",
       "      <td>[[-1, -1, -1, -1, -1, -1, -1, -1, -1, -1, -1, ...</td>\n",
       "      <td>[[[[986, 28]], [[985, 29]], [[984, 29]], [[983...</td>\n",
       "    </tr>\n",
       "  </tbody>\n",
       "</table>\n",
       "</div>"
      ],
      "text/plain": [
       "     test_paramID  num_cells  dt_percentile  dilation_kernel_size  \\\n",
       "0  dt_percentile0         10             80                     5   \n",
       "1  dt_percentile1         10             81                     5   \n",
       "2  dt_percentile2         10             82                     5   \n",
       "3  dt_percentile3         10             83                     5   \n",
       "4  dt_percentile4         10             84                     5   \n",
       "\n",
       "   minimum_cell_area  maximum_cell_area  \\\n",
       "0                100                900   \n",
       "1                100                900   \n",
       "2                100                900   \n",
       "3                100                900   \n",
       "4                100                900   \n",
       "\n",
       "                                             markers  \\\n",
       "0  [[-1, -1, -1, -1, -1, -1, -1, -1, -1, -1, -1, ...   \n",
       "1  [[-1, -1, -1, -1, -1, -1, -1, -1, -1, -1, -1, ...   \n",
       "2  [[-1, -1, -1, -1, -1, -1, -1, -1, -1, -1, -1, ...   \n",
       "3  [[-1, -1, -1, -1, -1, -1, -1, -1, -1, -1, -1, ...   \n",
       "4  [[-1, -1, -1, -1, -1, -1, -1, -1, -1, -1, -1, ...   \n",
       "\n",
       "                                            contours  \n",
       "0  [[[[986, 28]], [[985, 29]], [[984, 29]], [[983...  \n",
       "1  [[[[986, 28]], [[985, 29]], [[984, 29]], [[983...  \n",
       "2  [[[[986, 28]], [[985, 29]], [[984, 29]], [[983...  \n",
       "3  [[[[986, 28]], [[985, 29]], [[984, 29]], [[983...  \n",
       "4  [[[[986, 28]], [[985, 29]], [[984, 29]], [[983...  "
      ]
     },
     "execution_count": 135,
     "metadata": {},
     "output_type": "execute_result"
    }
   ],
   "source": [
    "origin_csv_fname = None\n",
    "full_tiff = '/Users/brianbrogan/Desktop/KI24/ClusterImgGen2024/STERSEQ/output/02. Images/02.1. Raw prediction/1996-081_GFM_SS200000954BR_A2_tissue_cleaned_cortex_crop/clusters/cluster0_from_1996-081_GFM_SS200000954BR_A2_bin100_tissue_cleaned_mean_r10_cap1000.tif'\n",
    "color_slice = '/Users/brianbrogan/Desktop/KI24/figures/test_slice.tiff'\n",
    "\n",
    "image_fname = color_slice\n",
    "\n",
    "## Variable Definition - start/stop - ensure range is divisible by step\n",
    "\n",
    "# Distance Transform Percentile for Watershed Marker Definition\n",
    "dtp = [80, 98]\n",
    "dtp_step = 1\n",
    "\n",
    "# Watershed Dilation Kernel Size\n",
    "dks = [2, 7]\n",
    "dks_step = 1\n",
    "\n",
    "# Minimum Cell Area Count (pixels)\n",
    "minca = [50, 200]\n",
    "minca_step = 25\n",
    "\n",
    "# Maximum Cell Area Count (pixels)\n",
    "maxca = [850, 1000]\n",
    "maxca_step = 25\n",
    "\n",
    "\n",
    "watershed_var_ranges = {\n",
    "    'dt_percentile': np.arange(dtp[0], dtp[1]+1, dtp_step),\n",
    "    'dilation_kernel_size': np.arange(dks[0], dks[1]+1, dks_step, dtype=np.uint8),\n",
    "    'minimum_cell_area': np.arange(minca[0], minca[1]+1, minca_step),\n",
    "    'maximum_cell_area': np.arange(maxca[0], maxca[1]+1, maxca_step)\n",
    "}\n",
    "\n",
    "print(\"Origin Data File: \", origin_csv_fname)\n",
    "print(\"Selected Image File: \", image_fname)\n",
    "print(\"Number of params to be analyzed: \", len(watershed_var_ranges))\n",
    "\n",
    "\n",
    "#tiff.imwrite('figures/MaskMaker_test1.tiff', masker.preproc, photometric='minisblack')\n",
    "test_segmenter = ControlSegmenter(image_fname= image_fname,\n",
    "                                    var_ranges= watershed_var_ranges,\n",
    "                                    controls= [90,\n",
    "                                                5,\n",
    "                                                100,\n",
    "                                                900],\n",
    "                                    #area_filter_jobn=4,\n",
    "                                    channel_id=1\n",
    "                                    )\n",
    "test_segmenter.export()\n",
    "print(test_segmenter.var_seg_fulldf.info())\n",
    "test_segmenter.var_seg_fulldf.head()"
   ]
  },
  {
   "cell_type": "code",
   "execution_count": 136,
   "metadata": {},
   "outputs": [
    {
     "name": "stdout",
     "output_type": "stream",
     "text": [
      "(1000, 1000)\n"
     ]
    }
   ],
   "source": [
    "marker_check = np.array(test_segmenter.var_seg_fulldf.loc[1, 'markers'])\n",
    "print(marker_check.shape)"
   ]
  },
  {
   "cell_type": "code",
   "execution_count": 137,
   "metadata": {},
   "outputs": [],
   "source": [
    "manager = DataManager(\n",
    "    origin_csv_fname='/Users/brianbrogan/Desktop/KI24/ClusterImgGen2024/STERSEQ/input/1996-081_GFM_SS200000954BR_A2_tissue_cleaned_cortex_crop.csv',\n",
    "    annotation_fname='/Users/brianbrogan/Desktop/KI24/ClusterImgGen2024/STERSEQ/output/01. Co-expression network/1996-081_GFM_SS200000954BR_A2_bin100_tissue_cleaned/Cluster_annotation.csv'\n",
    ")"
   ]
  },
  {
   "cell_type": "code",
   "execution_count": 138,
   "metadata": {},
   "outputs": [
    {
     "data": {
      "text/plain": [
       "(1000, 1000)"
      ]
     },
     "execution_count": 138,
     "metadata": {},
     "output_type": "execute_result"
    }
   ],
   "source": [
    "manager.markers[1].shape"
   ]
  },
  {
   "cell_type": "code",
   "execution_count": 139,
   "metadata": {},
   "outputs": [
    {
     "name": "stderr",
     "output_type": "stream",
     "text": [
      "Finding positive indicators: 100%|██████████| 3/3 [00:00<00:00,  3.39step/s]\n",
      "Finding negative indicators: 100%|██████████| 4/4 [00:01<00:00,  3.41cluster/s]\n"
     ]
    },
    {
     "data": {
      "text/html": [
       "<div>\n",
       "<style scoped>\n",
       "    .dataframe tbody tr th:only-of-type {\n",
       "        vertical-align: middle;\n",
       "    }\n",
       "\n",
       "    .dataframe tbody tr th {\n",
       "        vertical-align: top;\n",
       "    }\n",
       "\n",
       "    .dataframe thead th {\n",
       "        text-align: right;\n",
       "    }\n",
       "</style>\n",
       "<table border=\"1\" class=\"dataframe\">\n",
       "  <thead>\n",
       "    <tr style=\"text-align: right;\">\n",
       "      <th></th>\n",
       "      <th>geneID</th>\n",
       "      <th>count</th>\n",
       "      <th>cluster</th>\n",
       "      <th>type</th>\n",
       "    </tr>\n",
       "  </thead>\n",
       "  <tbody>\n",
       "    <tr>\n",
       "      <th>0</th>\n",
       "      <td>MT-RNR2</td>\n",
       "      <td>182774</td>\n",
       "      <td>0</td>\n",
       "      <td>pos</td>\n",
       "    </tr>\n",
       "    <tr>\n",
       "      <th>1</th>\n",
       "      <td>MT-CO2</td>\n",
       "      <td>42167</td>\n",
       "      <td>0</td>\n",
       "      <td>pos</td>\n",
       "    </tr>\n",
       "    <tr>\n",
       "      <th>2</th>\n",
       "      <td>MT-TV</td>\n",
       "      <td>39477</td>\n",
       "      <td>0</td>\n",
       "      <td>pos</td>\n",
       "    </tr>\n",
       "    <tr>\n",
       "      <th>3</th>\n",
       "      <td>MT-CO3</td>\n",
       "      <td>39279</td>\n",
       "      <td>0</td>\n",
       "      <td>pos</td>\n",
       "    </tr>\n",
       "    <tr>\n",
       "      <th>4</th>\n",
       "      <td>MT-ND1</td>\n",
       "      <td>34312</td>\n",
       "      <td>0</td>\n",
       "      <td>pos</td>\n",
       "    </tr>\n",
       "  </tbody>\n",
       "</table>\n",
       "</div>"
      ],
      "text/plain": [
       "    geneID   count cluster type\n",
       "0  MT-RNR2  182774       0  pos\n",
       "1   MT-CO2   42167       0  pos\n",
       "2    MT-TV   39477       0  pos\n",
       "3   MT-CO3   39279       0  pos\n",
       "4   MT-ND1   34312       0  pos"
      ]
     },
     "execution_count": 139,
     "metadata": {},
     "output_type": "execute_result"
    }
   ],
   "source": [
    "indicatorTester = Indicator(\n",
    "    origin_csv = manager.origin_csv,\n",
    "    annotation = manager.annotation,\n",
    "    n_neg=5\n",
    "    )\n",
    "indicatorTester.indicators.head()"
   ]
  },
  {
   "cell_type": "code",
   "execution_count": 140,
   "metadata": {},
   "outputs": [],
   "source": [
    "comparatorTester = Comparator(\n",
    "    indicator = indicatorTester,\n",
    "    metadata = manager.metadata,\n",
    "    markers = manager.markers,\n",
    "    contours = manager.contours\n",
    ")"
   ]
  },
  {
   "cell_type": "code",
   "execution_count": 141,
   "metadata": {},
   "outputs": [
    {
     "name": "stdout",
     "output_type": "stream",
     "text": [
      "[-1  0  1]\n",
      "(1000, 1000)\n"
     ]
    }
   ],
   "source": [
    "#neg_indic_mask = comparatorTester.create_indicator_mask(xrange = x_win, \n",
    "#                                                        yrange = y_win,\n",
    "#                                                        indicators = indicatorTester.create_indicator_dict(indicatorTester.negative_indicators))\n",
    "indic_mask = comparatorTester.create_indicator_mask(xrange = x_win,\n",
    "                                                    yrange = y_win,\n",
    "                                                    indicators = indicatorTester.create_indicator_dict(indicatorTester.indicators))\n",
    "print(np.unique(indic_mask))\n",
    "print(indic_mask.shape)"
   ]
  },
  {
   "cell_type": "code",
   "execution_count": 142,
   "metadata": {},
   "outputs": [
    {
     "name": "stdout",
     "output_type": "stream",
     "text": [
      "20\n"
     ]
    }
   ],
   "source": [
    "print(len(indicatorTester.negative_indicators))"
   ]
  },
  {
   "cell_type": "code",
   "execution_count": 143,
   "metadata": {},
   "outputs": [],
   "source": [
    "rgb = comparatorTester.rgb_indicator_mask(indic_mask)\n"
   ]
  },
  {
   "cell_type": "code",
   "execution_count": 144,
   "metadata": {},
   "outputs": [
    {
     "data": {
      "image/png": "[encoded data removed]",
      "text/plain": [
       "<Figure size 600x600 with 1 Axes>"
      ]
     },
     "metadata": {},
     "output_type": "display_data"
    }
   ],
   "source": [
    "plt.figure(figsize=(6, 6), dpi=100)\n",
    "plt.imshow(rgb)\n",
    "plt.axis('off')  # Remove axes\n",
    "\n",
    "# Save the plot to a TIFF file\n",
    "plt.subplots_adjust(left=0, right=1, top=1, bottom=0)  # Remove borders\n",
    "#plt.savefig('/Users/brianbrogan/Desktop/KI24/figures/rgb_indicator_test1.tiff', dpi=100, format='tiff', bbox_inches='tight', pad_inches=0)\n",
    "\n",
    "# Optionally display the image\n",
    "plt.show()"
   ]
  },
  {
   "cell_type": "code",
   "execution_count": 145,
   "metadata": {},
   "outputs": [
    {
     "name": "stdout",
     "output_type": "stream",
     "text": [
      "total pixels under target:  585\n",
      "true positive count:  8\n",
      "false negative count:  0\n"
     ]
    }
   ],
   "source": [
    "tot, tp, fn = comparatorTester.count_marker_and_indicators(indic_mask, \n",
    "                                                           comparatorTester.markers[20],\n",
    "                                                           target=8)\n",
    "print(\"total pixels under target: \", tot)\n",
    "print(\"true positive count: \", tp)\n",
    "print(\"false negative count: \", fn)"
   ]
  },
  {
   "cell_type": "code",
   "execution_count": 146,
   "metadata": {},
   "outputs": [
    {
     "data": {
      "text/html": [
       "<div>\n",
       "<style scoped>\n",
       "    .dataframe tbody tr th:only-of-type {\n",
       "        vertical-align: middle;\n",
       "    }\n",
       "\n",
       "    .dataframe tbody tr th {\n",
       "        vertical-align: top;\n",
       "    }\n",
       "\n",
       "    .dataframe thead th {\n",
       "        text-align: right;\n",
       "    }\n",
       "</style>\n",
       "<table border=\"1\" class=\"dataframe\">\n",
       "  <thead>\n",
       "    <tr style=\"text-align: right;\">\n",
       "      <th></th>\n",
       "      <th>test_paramID</th>\n",
       "      <th>mark</th>\n",
       "      <th>total</th>\n",
       "      <th>n_true_pos</th>\n",
       "      <th>n_false_neg</th>\n",
       "    </tr>\n",
       "  </thead>\n",
       "  <tbody>\n",
       "    <tr>\n",
       "      <th>0</th>\n",
       "      <td>dt_percentile0</td>\n",
       "      <td>1</td>\n",
       "      <td>978159</td>\n",
       "      <td>10188</td>\n",
       "      <td>203</td>\n",
       "    </tr>\n",
       "    <tr>\n",
       "      <th>1</th>\n",
       "      <td>dt_percentile0</td>\n",
       "      <td>2</td>\n",
       "      <td>1896</td>\n",
       "      <td>17</td>\n",
       "      <td>1</td>\n",
       "    </tr>\n",
       "    <tr>\n",
       "      <th>2</th>\n",
       "      <td>dt_percentile0</td>\n",
       "      <td>3</td>\n",
       "      <td>1535</td>\n",
       "      <td>12</td>\n",
       "      <td>0</td>\n",
       "    </tr>\n",
       "    <tr>\n",
       "      <th>3</th>\n",
       "      <td>dt_percentile0</td>\n",
       "      <td>4</td>\n",
       "      <td>680</td>\n",
       "      <td>11</td>\n",
       "      <td>0</td>\n",
       "    </tr>\n",
       "    <tr>\n",
       "      <th>4</th>\n",
       "      <td>dt_percentile0</td>\n",
       "      <td>5</td>\n",
       "      <td>323</td>\n",
       "      <td>3</td>\n",
       "      <td>0</td>\n",
       "    </tr>\n",
       "    <tr>\n",
       "      <th>5</th>\n",
       "      <td>dt_percentile0</td>\n",
       "      <td>6</td>\n",
       "      <td>950</td>\n",
       "      <td>17</td>\n",
       "      <td>0</td>\n",
       "    </tr>\n",
       "    <tr>\n",
       "      <th>6</th>\n",
       "      <td>dt_percentile0</td>\n",
       "      <td>7</td>\n",
       "      <td>329</td>\n",
       "      <td>3</td>\n",
       "      <td>0</td>\n",
       "    </tr>\n",
       "    <tr>\n",
       "      <th>7</th>\n",
       "      <td>dt_percentile0</td>\n",
       "      <td>8</td>\n",
       "      <td>585</td>\n",
       "      <td>8</td>\n",
       "      <td>0</td>\n",
       "    </tr>\n",
       "    <tr>\n",
       "      <th>8</th>\n",
       "      <td>dt_percentile0</td>\n",
       "      <td>9</td>\n",
       "      <td>179</td>\n",
       "      <td>1</td>\n",
       "      <td>0</td>\n",
       "    </tr>\n",
       "    <tr>\n",
       "      <th>9</th>\n",
       "      <td>dt_percentile0</td>\n",
       "      <td>10</td>\n",
       "      <td>451</td>\n",
       "      <td>5</td>\n",
       "      <td>0</td>\n",
       "    </tr>\n",
       "    <tr>\n",
       "      <th>10</th>\n",
       "      <td>dt_percentile0</td>\n",
       "      <td>11</td>\n",
       "      <td>521</td>\n",
       "      <td>4</td>\n",
       "      <td>0</td>\n",
       "    </tr>\n",
       "    <tr>\n",
       "      <th>11</th>\n",
       "      <td>dt_percentile0</td>\n",
       "      <td>12</td>\n",
       "      <td>2482</td>\n",
       "      <td>43</td>\n",
       "      <td>0</td>\n",
       "    </tr>\n",
       "    <tr>\n",
       "      <th>12</th>\n",
       "      <td>dt_percentile0</td>\n",
       "      <td>13</td>\n",
       "      <td>1352</td>\n",
       "      <td>17</td>\n",
       "      <td>0</td>\n",
       "    </tr>\n",
       "    <tr>\n",
       "      <th>13</th>\n",
       "      <td>dt_percentile0</td>\n",
       "      <td>14</td>\n",
       "      <td>1009</td>\n",
       "      <td>14</td>\n",
       "      <td>0</td>\n",
       "    </tr>\n",
       "    <tr>\n",
       "      <th>14</th>\n",
       "      <td>dt_percentile0</td>\n",
       "      <td>15</td>\n",
       "      <td>4238</td>\n",
       "      <td>47</td>\n",
       "      <td>1</td>\n",
       "    </tr>\n",
       "    <tr>\n",
       "      <th>15</th>\n",
       "      <td>dt_percentile0</td>\n",
       "      <td>16</td>\n",
       "      <td>485</td>\n",
       "      <td>2</td>\n",
       "      <td>0</td>\n",
       "    </tr>\n",
       "    <tr>\n",
       "      <th>16</th>\n",
       "      <td>dt_percentile0</td>\n",
       "      <td>17</td>\n",
       "      <td>830</td>\n",
       "      <td>8</td>\n",
       "      <td>1</td>\n",
       "    </tr>\n",
       "    <tr>\n",
       "      <th>17</th>\n",
       "      <td>dt_percentile1</td>\n",
       "      <td>1</td>\n",
       "      <td>978159</td>\n",
       "      <td>10188</td>\n",
       "      <td>203</td>\n",
       "    </tr>\n",
       "    <tr>\n",
       "      <th>18</th>\n",
       "      <td>dt_percentile1</td>\n",
       "      <td>2</td>\n",
       "      <td>1896</td>\n",
       "      <td>17</td>\n",
       "      <td>1</td>\n",
       "    </tr>\n",
       "    <tr>\n",
       "      <th>19</th>\n",
       "      <td>dt_percentile1</td>\n",
       "      <td>3</td>\n",
       "      <td>1535</td>\n",
       "      <td>12</td>\n",
       "      <td>0</td>\n",
       "    </tr>\n",
       "  </tbody>\n",
       "</table>\n",
       "</div>"
      ],
      "text/plain": [
       "      test_paramID mark   total n_true_pos n_false_neg\n",
       "0   dt_percentile0    1  978159      10188         203\n",
       "1   dt_percentile0    2    1896         17           1\n",
       "2   dt_percentile0    3    1535         12           0\n",
       "3   dt_percentile0    4     680         11           0\n",
       "4   dt_percentile0    5     323          3           0\n",
       "5   dt_percentile0    6     950         17           0\n",
       "6   dt_percentile0    7     329          3           0\n",
       "7   dt_percentile0    8     585          8           0\n",
       "8   dt_percentile0    9     179          1           0\n",
       "9   dt_percentile0   10     451          5           0\n",
       "10  dt_percentile0   11     521          4           0\n",
       "11  dt_percentile0   12    2482         43           0\n",
       "12  dt_percentile0   13    1352         17           0\n",
       "13  dt_percentile0   14    1009         14           0\n",
       "14  dt_percentile0   15    4238         47           1\n",
       "15  dt_percentile0   16     485          2           0\n",
       "16  dt_percentile0   17     830          8           1\n",
       "17  dt_percentile1    1  978159      10188         203\n",
       "18  dt_percentile1    2    1896         17           1\n",
       "19  dt_percentile1    3    1535         12           0"
      ]
     },
     "execution_count": 146,
     "metadata": {},
     "output_type": "execute_result"
    }
   ],
   "source": [
    "engine_res = comparatorTester.compare_engine(x_win, \n",
    "                                             y_win, \n",
    "                                             comparatorTester.indicator.indicators)\n",
    "engine_res.head(20)"
   ]
  },
  {
   "cell_type": "code",
   "execution_count": 147,
   "metadata": {},
   "outputs": [],
   "source": [
    "engine_res.to_csv(\"/Users/brianbrogan/Desktop/KI24/figures/compare_engine_test.csv\", index=False)"
   ]
  },
  {
   "cell_type": "code",
   "execution_count": null,
   "metadata": {},
   "outputs": [],
   "source": []
  }
 ],
 "metadata": {
  "kernelspec": {
   "display_name": "vision-env",
   "language": "python",
   "name": "python3"
  },
  "language_info": {
   "codemirror_mode": {
    "name": "ipython",
    "version": 3
   },
   "file_extension": ".py",
   "mimetype": "text/x-python",
   "name": "python",
   "nbconvert_exporter": "python",
   "pygments_lexer": "ipython3",
   "version": "3.12.3"
  }
 },
 "nbformat": 4,
 "nbformat_minor": 2
}
