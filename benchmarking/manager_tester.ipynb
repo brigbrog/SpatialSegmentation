{
 "cells": [
  {
   "cell_type": "markdown",
   "metadata": {},
   "source": [
    "Test File for Data Manager Class"
   ]
  },
  {
   "cell_type": "code",
   "execution_count": 86,
   "metadata": {},
   "outputs": [
    {
     "name": "stdout",
     "output_type": "stream",
     "text": [
      "The autoreload extension is already loaded. To reload it, use:\n",
      "  %reload_ext autoreload\n"
     ]
    }
   ],
   "source": [
    "from manager import DataManager as Manager\n",
    "\n",
    "%load_ext autoreload\n",
    "%autoreload 2"
   ]
  },
  {
   "cell_type": "code",
   "execution_count": 87,
   "metadata": {},
   "outputs": [],
   "source": [
    "manager = Manager(\n",
    "    origin_csv_fname= '/Users/brianbrogan/Desktop/KI24/ClusterImgGen2024/STERSEQ/input/1996-081_GFM_SS200000954BR_A2_tissue_cleaned_cortex_crop.csv',\n",
    "    annotation_fname= '/Users/brianbrogan/Desktop/KI24/ClusterImgGen2024/STERSEQ/output/01. Co-expression network/1996-081_GFM_SS200000954BR_A2_bin100_tissue_cleaned/Cluster_annotation.csv'\n",
    ")"
   ]
  },
  {
   "cell_type": "code",
   "execution_count": 88,
   "metadata": {},
   "outputs": [
    {
     "name": "stdout",
     "output_type": "stream",
     "text": [
      "Manager origin csv info, columns:\n",
      "<class 'pandas.core.frame.DataFrame'>\n",
      "RangeIndex: 9084839 entries, 0 to 9084838\n",
      "Data columns (total 8 columns):\n",
      " #   Column       Dtype  \n",
      "---  ------       -----  \n",
      " 0   Unnamed: 0   int64  \n",
      " 1   geneID       object \n",
      " 2   x            int64  \n",
      " 3   y            int64  \n",
      " 4   MIDCount     int64  \n",
      " 5   ExonCount    int64  \n",
      " 6   IntronCount  int64  \n",
      " 7   bin1_ID      float64\n",
      "dtypes: float64(1), int64(6), object(1)\n",
      "memory usage: 554.5+ MB\n",
      "None\n",
      "Index(['Unnamed: 0', 'geneID', 'x', 'y', 'MIDCount', 'ExonCount',\n",
      "       'IntronCount', 'bin1_ID'],\n",
      "      dtype='object')\n",
      "First 5 rows of origin csv:\n",
      "\n"
     ]
    },
    {
     "data": {
      "text/html": [
       "<div>\n",
       "<style scoped>\n",
       "    .dataframe tbody tr th:only-of-type {\n",
       "        vertical-align: middle;\n",
       "    }\n",
       "\n",
       "    .dataframe tbody tr th {\n",
       "        vertical-align: top;\n",
       "    }\n",
       "\n",
       "    .dataframe thead th {\n",
       "        text-align: right;\n",
       "    }\n",
       "</style>\n",
       "<table border=\"1\" class=\"dataframe\">\n",
       "  <thead>\n",
       "    <tr style=\"text-align: right;\">\n",
       "      <th></th>\n",
       "      <th>Unnamed: 0</th>\n",
       "      <th>geneID</th>\n",
       "      <th>x</th>\n",
       "      <th>y</th>\n",
       "      <th>MIDCount</th>\n",
       "      <th>ExonCount</th>\n",
       "      <th>IntronCount</th>\n",
       "      <th>bin1_ID</th>\n",
       "    </tr>\n",
       "  </thead>\n",
       "  <tbody>\n",
       "    <tr>\n",
       "      <th>0</th>\n",
       "      <td>1</td>\n",
       "      <td>WASH7P</td>\n",
       "      <td>4209</td>\n",
       "      <td>8106</td>\n",
       "      <td>1</td>\n",
       "      <td>0</td>\n",
       "      <td>1</td>\n",
       "      <td>159121569.0</td>\n",
       "    </tr>\n",
       "    <tr>\n",
       "      <th>1</th>\n",
       "      <td>2</td>\n",
       "      <td>WASH7P</td>\n",
       "      <td>8313</td>\n",
       "      <td>6307</td>\n",
       "      <td>1</td>\n",
       "      <td>0</td>\n",
       "      <td>1</td>\n",
       "      <td>123807705.0</td>\n",
       "    </tr>\n",
       "    <tr>\n",
       "      <th>2</th>\n",
       "      <td>3</td>\n",
       "      <td>WASH7P</td>\n",
       "      <td>6394</td>\n",
       "      <td>8031</td>\n",
       "      <td>1</td>\n",
       "      <td>0</td>\n",
       "      <td>1</td>\n",
       "      <td>157651354.0</td>\n",
       "    </tr>\n",
       "    <tr>\n",
       "      <th>3</th>\n",
       "      <td>4</td>\n",
       "      <td>WASH7P</td>\n",
       "      <td>7620</td>\n",
       "      <td>10189</td>\n",
       "      <td>3</td>\n",
       "      <td>0</td>\n",
       "      <td>3</td>\n",
       "      <td>200018436.0</td>\n",
       "    </tr>\n",
       "    <tr>\n",
       "      <th>4</th>\n",
       "      <td>5</td>\n",
       "      <td>WASH7P</td>\n",
       "      <td>10163</td>\n",
       "      <td>8238</td>\n",
       "      <td>1</td>\n",
       "      <td>0</td>\n",
       "      <td>1</td>\n",
       "      <td>161718947.0</td>\n",
       "    </tr>\n",
       "  </tbody>\n",
       "</table>\n",
       "</div>"
      ],
      "text/plain": [
       "   Unnamed: 0  geneID      x  ...  ExonCount  IntronCount      bin1_ID\n",
       "0           1  WASH7P   4209  ...          0            1  159121569.0\n",
       "1           2  WASH7P   8313  ...          0            1  123807705.0\n",
       "2           3  WASH7P   6394  ...          0            1  157651354.0\n",
       "3           4  WASH7P   7620  ...          0            3  200018436.0\n",
       "4           5  WASH7P  10163  ...          0            1  161718947.0\n",
       "\n",
       "[5 rows x 8 columns]"
      ]
     },
     "execution_count": 88,
     "metadata": {},
     "output_type": "execute_result"
    }
   ],
   "source": [
    "print('Manager origin csv info, columns:')\n",
    "print(manager.origin_csv.info())\n",
    "print(manager.origin_csv.columns)\n",
    "print('First 5 rows of origin csv:\\n')\n",
    "manager.origin_csv.head()"
   ]
  },
  {
   "cell_type": "code",
   "execution_count": 89,
   "metadata": {},
   "outputs": [
    {
     "name": "stdout",
     "output_type": "stream",
     "text": [
      "Manager annotation csv info, columns:\n",
      "<class 'pandas.core.frame.DataFrame'>\n",
      "RangeIndex: 21441 entries, 0 to 21440\n",
      "Data columns (total 4 columns):\n",
      " #   Column    Non-Null Count  Dtype  \n",
      "---  ------    --------------  -----  \n",
      " 0   features  21441 non-null  object \n",
      " 1   x         21441 non-null  float64\n",
      " 2   y         21441 non-null  float64\n",
      " 3   cluster   21441 non-null  int64  \n",
      "dtypes: float64(2), int64(1), object(1)\n",
      "memory usage: 670.2+ KB\n",
      "None\n",
      "Index(['features', 'x', 'y', 'cluster'], dtype='object')\n",
      "First 5 rows of origin csv:\n",
      "\n"
     ]
    },
    {
     "data": {
      "text/html": [
       "<div>\n",
       "<style scoped>\n",
       "    .dataframe tbody tr th:only-of-type {\n",
       "        vertical-align: middle;\n",
       "    }\n",
       "\n",
       "    .dataframe tbody tr th {\n",
       "        vertical-align: top;\n",
       "    }\n",
       "\n",
       "    .dataframe thead th {\n",
       "        text-align: right;\n",
       "    }\n",
       "</style>\n",
       "<table border=\"1\" class=\"dataframe\">\n",
       "  <thead>\n",
       "    <tr style=\"text-align: right;\">\n",
       "      <th></th>\n",
       "      <th>features</th>\n",
       "      <th>x</th>\n",
       "      <th>y</th>\n",
       "      <th>cluster</th>\n",
       "    </tr>\n",
       "  </thead>\n",
       "  <tbody>\n",
       "    <tr>\n",
       "      <th>0</th>\n",
       "      <td>WASH7P</td>\n",
       "      <td>0.058166</td>\n",
       "      <td>8.574180</td>\n",
       "      <td>0</td>\n",
       "    </tr>\n",
       "    <tr>\n",
       "      <th>1</th>\n",
       "      <td>WASH9P</td>\n",
       "      <td>10.845608</td>\n",
       "      <td>10.232767</td>\n",
       "      <td>2</td>\n",
       "    </tr>\n",
       "    <tr>\n",
       "      <th>2</th>\n",
       "      <td>MTND1P23</td>\n",
       "      <td>-0.641904</td>\n",
       "      <td>10.953246</td>\n",
       "      <td>0</td>\n",
       "    </tr>\n",
       "    <tr>\n",
       "      <th>3</th>\n",
       "      <td>MTND2P28</td>\n",
       "      <td>-4.345322</td>\n",
       "      <td>8.884488</td>\n",
       "      <td>0</td>\n",
       "    </tr>\n",
       "    <tr>\n",
       "      <th>4</th>\n",
       "      <td>MTCO1P12</td>\n",
       "      <td>-0.549818</td>\n",
       "      <td>10.905572</td>\n",
       "      <td>0</td>\n",
       "    </tr>\n",
       "  </tbody>\n",
       "</table>\n",
       "</div>"
      ],
      "text/plain": [
       "   features          x          y  cluster\n",
       "0    WASH7P   0.058166   8.574180        0\n",
       "1    WASH9P  10.845608  10.232767        2\n",
       "2  MTND1P23  -0.641904  10.953246        0\n",
       "3  MTND2P28  -4.345322   8.884488        0\n",
       "4  MTCO1P12  -0.549818  10.905572        0"
      ]
     },
     "execution_count": 89,
     "metadata": {},
     "output_type": "execute_result"
    }
   ],
   "source": [
    "print('Manager annotation csv info, columns:')\n",
    "print(manager.annotation.info())\n",
    "print(manager.annotation.columns)\n",
    "print('First 5 rows of origin csv:\\n')\n",
    "manager.annotation.head()"
   ]
  },
  {
   "cell_type": "code",
   "execution_count": 90,
   "metadata": {},
   "outputs": [
    {
     "name": "stdout",
     "output_type": "stream",
     "text": [
      "Manager metadata info, columns:\n",
      "<class 'pandas.core.frame.DataFrame'>\n",
      "RangeIndex: 41 entries, 0 to 40\n",
      "Data columns (total 5 columns):\n",
      " #   Column                Non-Null Count  Dtype \n",
      "---  ------                --------------  ----- \n",
      " 0   test_paramID          41 non-null     object\n",
      " 1   num_cells             41 non-null     int64 \n",
      " 2   dt_percentile         41 non-null     int64 \n",
      " 3   dilation_kernel_size  41 non-null     int64 \n",
      " 4   minimum_cell_area     41 non-null     int64 \n",
      "dtypes: int64(4), object(1)\n",
      "memory usage: 1.7+ KB\n",
      "None\n",
      "Index(['test_paramID', 'num_cells', 'dt_percentile', 'dilation_kernel_size',\n",
      "       'minimum_cell_area'],\n",
      "      dtype='object')\n",
      "First 5 rows of metadata csv:\n",
      "\n"
     ]
    },
    {
     "data": {
      "text/html": [
       "<div>\n",
       "<style scoped>\n",
       "    .dataframe tbody tr th:only-of-type {\n",
       "        vertical-align: middle;\n",
       "    }\n",
       "\n",
       "    .dataframe tbody tr th {\n",
       "        vertical-align: top;\n",
       "    }\n",
       "\n",
       "    .dataframe thead th {\n",
       "        text-align: right;\n",
       "    }\n",
       "</style>\n",
       "<table border=\"1\" class=\"dataframe\">\n",
       "  <thead>\n",
       "    <tr style=\"text-align: right;\">\n",
       "      <th></th>\n",
       "      <th>test_paramID</th>\n",
       "      <th>num_cells</th>\n",
       "      <th>dt_percentile</th>\n",
       "      <th>dilation_kernel_size</th>\n",
       "      <th>minimum_cell_area</th>\n",
       "    </tr>\n",
       "  </thead>\n",
       "  <tbody>\n",
       "    <tr>\n",
       "      <th>0</th>\n",
       "      <td>dt_percentile0</td>\n",
       "      <td>47</td>\n",
       "      <td>80</td>\n",
       "      <td>5</td>\n",
       "      <td>100</td>\n",
       "    </tr>\n",
       "    <tr>\n",
       "      <th>1</th>\n",
       "      <td>dt_percentile1</td>\n",
       "      <td>44</td>\n",
       "      <td>81</td>\n",
       "      <td>5</td>\n",
       "      <td>100</td>\n",
       "    </tr>\n",
       "    <tr>\n",
       "      <th>2</th>\n",
       "      <td>dt_percentile2</td>\n",
       "      <td>42</td>\n",
       "      <td>82</td>\n",
       "      <td>5</td>\n",
       "      <td>100</td>\n",
       "    </tr>\n",
       "    <tr>\n",
       "      <th>3</th>\n",
       "      <td>dt_percentile3</td>\n",
       "      <td>39</td>\n",
       "      <td>83</td>\n",
       "      <td>5</td>\n",
       "      <td>100</td>\n",
       "    </tr>\n",
       "    <tr>\n",
       "      <th>4</th>\n",
       "      <td>dt_percentile4</td>\n",
       "      <td>39</td>\n",
       "      <td>84</td>\n",
       "      <td>5</td>\n",
       "      <td>100</td>\n",
       "    </tr>\n",
       "  </tbody>\n",
       "</table>\n",
       "</div>"
      ],
      "text/plain": [
       "     test_paramID  num_cells  ...  dilation_kernel_size  minimum_cell_area\n",
       "0  dt_percentile0         47  ...                     5                100\n",
       "1  dt_percentile1         44  ...                     5                100\n",
       "2  dt_percentile2         42  ...                     5                100\n",
       "3  dt_percentile3         39  ...                     5                100\n",
       "4  dt_percentile4         39  ...                     5                100\n",
       "\n",
       "[5 rows x 5 columns]"
      ]
     },
     "execution_count": 90,
     "metadata": {},
     "output_type": "execute_result"
    }
   ],
   "source": [
    "print('Manager metadata info, columns:')\n",
    "print(manager.metadata.info())\n",
    "print(manager.metadata.columns)\n",
    "print('First 5 rows of metadata csv:\\n')\n",
    "manager.metadata.head()"
   ]
  },
  {
   "cell_type": "code",
   "execution_count": 91,
   "metadata": {},
   "outputs": [
    {
     "name": "stdout",
     "output_type": "stream",
     "text": [
      "Manager markers info:\n",
      "<class 'pandas.core.series.Series'>\n",
      "RangeIndex: 41 entries, 0 to 40\n",
      "Series name: markers_arr\n",
      "Non-Null Count  Dtype \n",
      "--------------  ----- \n",
      "41 non-null     object\n",
      "dtypes: object(1)\n",
      "memory usage: 460.0+ bytes\n",
      "None\n",
      "First 5 rows of markers array:\n"
     ]
    },
    {
     "data": {
      "text/plain": [
       "0    [[-1, -1, -1, -1, -1, -1, -1, -1, -1, -1, -1, ...\n",
       "1    [[-1, -1, -1, -1, -1, -1, -1, -1, -1, -1, -1, ...\n",
       "2    [[-1, -1, -1, -1, -1, -1, -1, -1, -1, -1, -1, ...\n",
       "3    [[-1, -1, -1, -1, -1, -1, -1, -1, -1, -1, -1, ...\n",
       "4    [[-1, -1, -1, -1, -1, -1, -1, -1, -1, -1, -1, ...\n",
       "Name: markers_arr, dtype: object"
      ]
     },
     "execution_count": 91,
     "metadata": {},
     "output_type": "execute_result"
    }
   ],
   "source": [
    "print('Manager markers info:')\n",
    "print(manager.markers.info())\n",
    "#print(manager.markers_arr.columns)\n",
    "print('First 5 rows of markers array:')\n",
    "manager.markers.head()"
   ]
  },
  {
   "cell_type": "code",
   "execution_count": 92,
   "metadata": {},
   "outputs": [
    {
     "name": "stdout",
     "output_type": "stream",
     "text": [
      "marker_arr element type:\n",
      "<class 'numpy.ndarray'>\n",
      "Shape of first marker in marker_arr:\n",
      "(369, 369)\n"
     ]
    }
   ],
   "source": [
    "print(\"marker_arr element type:\")\n",
    "print(type(manager.markers.iloc[0]))\n",
    "print(\"Shape of first marker in marker_arr:\")\n",
    "print(manager.markers.iloc[0].shape)"
   ]
  },
  {
   "cell_type": "code",
   "execution_count": 93,
   "metadata": {},
   "outputs": [
    {
     "name": "stdout",
     "output_type": "stream",
     "text": [
      "old markers info:\n"
     ]
    },
    {
     "ename": "AttributeError",
     "evalue": "'DataManager' object has no attribute 'import_markers_old'",
     "output_type": "error",
     "traceback": [
      "\u001b[0;31m---------------------------------------------------------------------------\u001b[0m",
      "\u001b[0;31mAttributeError\u001b[0m                            Traceback (most recent call last)",
      "Cell \u001b[0;32mIn[93], line 2\u001b[0m\n\u001b[1;32m      1\u001b[0m \u001b[38;5;28mprint\u001b[39m(\u001b[38;5;124m'\u001b[39m\u001b[38;5;124mold markers info:\u001b[39m\u001b[38;5;124m'\u001b[39m)\n\u001b[0;32m----> 2\u001b[0m exp \u001b[38;5;241m=\u001b[39m manager\u001b[38;5;241m.\u001b[39mimport_markers_old()\n\u001b[1;32m      3\u001b[0m \u001b[38;5;28mprint\u001b[39m(exp\u001b[38;5;241m.\u001b[39minfo())\n\u001b[1;32m      4\u001b[0m \u001b[38;5;66;03m#print(manager.markers_arr.columns)\u001b[39;00m\n",
      "\u001b[0;31mAttributeError\u001b[0m: 'DataManager' object has no attribute 'import_markers_old'"
     ]
    }
   ],
   "source": [
    "print('old markers info:')\n",
    "exp = manager.import_markers_old()\n",
    "print(exp.info())\n",
    "#print(manager.markers_arr.columns)\n",
    "print(\"marker_arr element type:\")\n",
    "print(type(exp.iloc[0]))\n",
    "print(\"Shape of first marker in marker_arr:\")\n",
    "print(exp.iloc[0].shape)\n",
    "print('First 5 rows of old markers array:')\n",
    "exp.head()"
   ]
  },
  {
   "cell_type": "code",
   "execution_count": 94,
   "metadata": {},
   "outputs": [
    {
     "name": "stdout",
     "output_type": "stream",
     "text": [
      "Manager contours info, columns:\n",
      "<class 'pandas.core.series.Series'>\n",
      "RangeIndex: 41 entries, 0 to 40\n",
      "Series name: contour_arrs\n",
      "Non-Null Count  Dtype \n",
      "--------------  ----- \n",
      "41 non-null     object\n",
      "dtypes: object(1)\n",
      "memory usage: 460.0+ bytes\n",
      "None\n",
      "contour_arr element type:\n",
      "<class 'list'>\n",
      "first contour type in first contour list:\n",
      "<class 'numpy.ndarray'>\n",
      "Shape of first contour_list in contours_arr:\n",
      "47\n",
      "First 5 rows of metadata csv:\n",
      "\n"
     ]
    },
    {
     "data": {
      "text/plain": [
       "0    [[[[0 0]], [[0 1]], [[0 2]], [[0 3]], [[0 4]],...\n",
       "1    [[[[0 0]], [[0 1]], [[0 2]], [[0 3]], [[0 4]],...\n",
       "2    [[[[0 0]], [[0 1]], [[0 2]], [[0 3]], [[0 4]],...\n",
       "3    [[[[0 0]], [[0 1]], [[0 2]], [[0 3]], [[0 4]],...\n",
       "4    [[[[0 0]], [[0 1]], [[0 2]], [[0 3]], [[0 4]],...\n",
       "Name: contour_arrs, dtype: object"
      ]
     },
     "execution_count": 94,
     "metadata": {},
     "output_type": "execute_result"
    }
   ],
   "source": [
    "print('Manager contours info, columns:')\n",
    "print(manager.contours.info())\n",
    "#print(manager.contours_arr.columns)\n",
    "print(\"contour_arr element type:\")\n",
    "print(type(manager.contours.iloc[0]))\n",
    "print(\"first contour type in first contour list:\")\n",
    "print(type(manager.contours.iloc[0][0]))\n",
    "print(\"Shape of first contour_list in contours_arr:\")\n",
    "print(len(manager.contours.iloc[0]))\n",
    "print('First 5 rows of metadata csv:\\n')\n",
    "manager.contours.head()"
   ]
  },
  {
   "cell_type": "code",
   "execution_count": 95,
   "metadata": {},
   "outputs": [
    {
     "data": {
      "image/png": "[encoded data removed]",
      "text/plain": [
       "<Figure size 640x480 with 1 Axes>"
      ]
     },
     "metadata": {},
     "output_type": "display_data"
    }
   ],
   "source": [
    "manager.view_single_contour(\n",
    "    contour_array= manager.contours.iloc[20],\n",
    "    target_id= 5\n",
    ")"
   ]
  },
  {
   "cell_type": "code",
   "execution_count": 96,
   "metadata": {},
   "outputs": [
    {
     "name": "stdout",
     "output_type": "stream",
     "text": [
      "[[-1 -1 -1 ... -1 -1 -1]\n",
      " [-1  1  1 ...  7  7 -1]\n",
      " [-1  1  1 ...  7  7 -1]\n",
      " ...\n",
      " [-1  1  1 ...  1  1 -1]\n",
      " [-1  1  1 ...  1  1 -1]\n",
      " [-1 -1 -1 ... -1 -1 -1]]\n"
     ]
    }
   ],
   "source": [
    "#target5 = manager.get_single_marker_points(\n",
    "#    marker_array= manager.markers.iloc[20],\n",
    "#    target = 6\n",
    "#)\n",
    "#print(target5)\n",
    "\n",
    "print(manager.markers.iloc[0])\n"
   ]
  },
  {
   "cell_type": "code",
   "execution_count": 97,
   "metadata": {},
   "outputs": [
    {
     "data": {
      "image/png": "[encoded data removed]",
      "text/plain": [
       "<Figure size 640x480 with 1 Axes>"
      ]
     },
     "metadata": {},
     "output_type": "display_data"
    }
   ],
   "source": [
    "manager.view_marker_array(\n",
    "    marker_array=manager.markers.iloc[22]\n",
    ")"
   ]
  },
  {
   "cell_type": "code",
   "execution_count": null,
   "metadata": {},
   "outputs": [],
   "source": []
  }
 ],
 "metadata": {
  "kernelspec": {
   "display_name": "vision-env",
   "language": "python",
   "name": "python3"
  },
  "language_info": {
   "codemirror_mode": {
    "name": "ipython",
    "version": 3
   },
   "file_extension": ".py",
   "mimetype": "text/x-python",
   "name": "python",
   "nbconvert_exporter": "python",
   "pygments_lexer": "ipython3",
   "version": "3.12.3"
  }
 },
 "nbformat": 4,
 "nbformat_minor": 2
}
