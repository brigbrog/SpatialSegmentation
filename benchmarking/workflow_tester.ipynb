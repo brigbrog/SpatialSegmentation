{
 "cells": [
  {
   "cell_type": "code",
   "execution_count": 6,
   "metadata": {},
   "outputs": [
    {
     "name": "stdout",
     "output_type": "stream",
     "text": [
      "The autoreload extension is already loaded. To reload it, use:\n",
      "  %reload_ext autoreload\n"
     ]
    }
   ],
   "source": [
    "import numpy as np\n",
    "import matplotlib.pyplot as plt\n",
    "from control_segmenter import ControlSegmenter\n",
    "from manager import DataManager\n",
    "from comparator import Indicator, Comparator\n",
    "import tifffile as tiff\n",
    "\n",
    "%load_ext autoreload\n",
    "%autoreload 2\n",
    "\n",
    "#y_win = (6000, 7000)\n",
    "#x_win = (9000, 10000)\n",
    "\n",
    "x_win = (7750, 10000) # first dimension (cols)\n",
    "y_win = (5000, 7500) # second dimension (rows)\n"
   ]
  },
  {
   "cell_type": "code",
   "execution_count": 8,
   "metadata": {},
   "outputs": [
    {
     "name": "stdout",
     "output_type": "stream",
     "text": [
      "Origin Data File:  None\n",
      "Selected Image File:  /Users/brianbrogan/Desktop/KI24/ClusterImgGen2024/STERSEQ/output/02. Images/02.1. Raw prediction/1996-081_GFM_SS200000954BR_A2_tissue_cleaned_cortex_crop/clusters/cluster0_from_1996-081_GFM_SS200000954BR_A2_bin100_tissue_cleaned_mean_r10_cap1000.tif\n",
      "Number of params to be analyzed:  4\n",
      "Variable Engine: creating segmentations for dt_percentile : 9 settings\n",
      "controls: [0.3, 5, 20, 1200]\n",
      "var seg method: test_params: [array([0.1 , 0.15, 0.2 , 0.25, 0.3 , 0.35, 0.4 , 0.45, 0.5 ]), 5, 20, 1200]\n",
      "params testid: [0.1  0.15 0.2  0.25 0.3  0.35 0.4  0.45 0.5 ]\n",
      "element: 0.1\n",
      "Engine running... testing setting 0.1\n",
      "[0.1, 5, 20, 1200]\n",
      "Collected Image from  /Users/brianbrogan/Desktop/KI24/ClusterImgGen2024/STERSEQ/output/02. Images/02.1. Raw prediction/1996-081_GFM_SS200000954BR_A2_tissue_cleaned_cortex_crop/clusters/cluster0_from_1996-081_GFM_SS200000954BR_A2_bin100_tissue_cleaned_mean_r10_cap1000.tif  with shape  (2500, 2250)\n"
     ]
    },
    {
     "name": "stderr",
     "output_type": "stream",
     "text": [
      "Sifting: 100%|██████████| 885/885 [00:08<00:00, 108.52it/s, 885/885]\n"
     ]
    },
    {
     "name": "stdout",
     "output_type": "stream",
     "text": [
      "696 CELLS FOUND\n",
      "params testid: [0.1  0.15 0.2  0.25 0.3  0.35 0.4  0.45 0.5 ]\n",
      "element: 0.15000000000000002\n",
      "Engine running... testing setting 0.15000000000000002\n",
      "[0.15000000000000002, 5, 20, 1200]\n",
      "Collected Image from  /Users/brianbrogan/Desktop/KI24/ClusterImgGen2024/STERSEQ/output/02. Images/02.1. Raw prediction/1996-081_GFM_SS200000954BR_A2_tissue_cleaned_cortex_crop/clusters/cluster0_from_1996-081_GFM_SS200000954BR_A2_bin100_tissue_cleaned_mean_r10_cap1000.tif  with shape  (2500, 2250)\n"
     ]
    },
    {
     "name": "stderr",
     "output_type": "stream",
     "text": [
      "Sifting: 100%|██████████| 544/544 [00:06<00:00, 89.00it/s, 544/544] \n"
     ]
    },
    {
     "name": "stdout",
     "output_type": "stream",
     "text": [
      "372 CELLS FOUND\n",
      "params testid: [0.1  0.15 0.2  0.25 0.3  0.35 0.4  0.45 0.5 ]\n",
      "element: 0.20000000000000004\n",
      "Engine running... testing setting 0.20000000000000004\n",
      "[0.20000000000000004, 5, 20, 1200]\n",
      "Collected Image from  /Users/brianbrogan/Desktop/KI24/ClusterImgGen2024/STERSEQ/output/02. Images/02.1. Raw prediction/1996-081_GFM_SS200000954BR_A2_tissue_cleaned_cortex_crop/clusters/cluster0_from_1996-081_GFM_SS200000954BR_A2_bin100_tissue_cleaned_mean_r10_cap1000.tif  with shape  (2500, 2250)\n"
     ]
    },
    {
     "name": "stderr",
     "output_type": "stream",
     "text": [
      "Sifting: 100%|██████████| 400/400 [00:04<00:00, 91.26it/s, 400/400]\n"
     ]
    },
    {
     "name": "stdout",
     "output_type": "stream",
     "text": [
      "218 CELLS FOUND\n",
      "params testid: [0.1  0.15 0.2  0.25 0.3  0.35 0.4  0.45 0.5 ]\n",
      "element: 0.25000000000000006\n",
      "Engine running... testing setting 0.25000000000000006\n",
      "[0.25000000000000006, 5, 20, 1200]\n",
      "Collected Image from  /Users/brianbrogan/Desktop/KI24/ClusterImgGen2024/STERSEQ/output/02. Images/02.1. Raw prediction/1996-081_GFM_SS200000954BR_A2_tissue_cleaned_cortex_crop/clusters/cluster0_from_1996-081_GFM_SS200000954BR_A2_bin100_tissue_cleaned_mean_r10_cap1000.tif  with shape  (2500, 2250)\n"
     ]
    },
    {
     "name": "stderr",
     "output_type": "stream",
     "text": [
      "Sifting: 100%|██████████| 338/338 [00:03<00:00, 91.64it/s, 338/338]\n"
     ]
    },
    {
     "name": "stdout",
     "output_type": "stream",
     "text": [
      "141 CELLS FOUND\n",
      "params testid: [0.1  0.15 0.2  0.25 0.3  0.35 0.4  0.45 0.5 ]\n",
      "element: 0.30000000000000004\n",
      "Engine running... testing setting 0.30000000000000004\n",
      "[0.30000000000000004, 5, 20, 1200]\n",
      "Collected Image from  /Users/brianbrogan/Desktop/KI24/ClusterImgGen2024/STERSEQ/output/02. Images/02.1. Raw prediction/1996-081_GFM_SS200000954BR_A2_tissue_cleaned_cortex_crop/clusters/cluster0_from_1996-081_GFM_SS200000954BR_A2_bin100_tissue_cleaned_mean_r10_cap1000.tif  with shape  (2500, 2250)\n"
     ]
    },
    {
     "name": "stderr",
     "output_type": "stream",
     "text": [
      "Sifting: 100%|██████████| 276/276 [00:03<00:00, 89.64it/s, 276/276]\n"
     ]
    },
    {
     "name": "stdout",
     "output_type": "stream",
     "text": [
      "76 CELLS FOUND\n",
      "params testid: [0.1  0.15 0.2  0.25 0.3  0.35 0.4  0.45 0.5 ]\n",
      "element: 0.3500000000000001\n",
      "Engine running... testing setting 0.3500000000000001\n",
      "[0.3500000000000001, 5, 20, 1200]\n",
      "Collected Image from  /Users/brianbrogan/Desktop/KI24/ClusterImgGen2024/STERSEQ/output/02. Images/02.1. Raw prediction/1996-081_GFM_SS200000954BR_A2_tissue_cleaned_cortex_crop/clusters/cluster0_from_1996-081_GFM_SS200000954BR_A2_bin100_tissue_cleaned_mean_r10_cap1000.tif  with shape  (2500, 2250)\n"
     ]
    },
    {
     "name": "stderr",
     "output_type": "stream",
     "text": [
      "Sifting: 100%|██████████| 216/216 [00:02<00:00, 88.19it/s, 216/216]\n"
     ]
    },
    {
     "name": "stdout",
     "output_type": "stream",
     "text": [
      "25 CELLS FOUND\n",
      "params testid: [0.1  0.15 0.2  0.25 0.3  0.35 0.4  0.45 0.5 ]\n",
      "element: 0.40000000000000013\n",
      "Engine running... testing setting 0.40000000000000013\n",
      "[0.40000000000000013, 5, 20, 1200]\n",
      "Collected Image from  /Users/brianbrogan/Desktop/KI24/ClusterImgGen2024/STERSEQ/output/02. Images/02.1. Raw prediction/1996-081_GFM_SS200000954BR_A2_tissue_cleaned_cortex_crop/clusters/cluster0_from_1996-081_GFM_SS200000954BR_A2_bin100_tissue_cleaned_mean_r10_cap1000.tif  with shape  (2500, 2250)\n"
     ]
    },
    {
     "name": "stderr",
     "output_type": "stream",
     "text": [
      "Sifting: 100%|██████████| 175/175 [00:01<00:00, 90.79it/s, 175/175]\n"
     ]
    },
    {
     "name": "stdout",
     "output_type": "stream",
     "text": [
      "11 CELLS FOUND\n",
      "params testid: [0.1  0.15 0.2  0.25 0.3  0.35 0.4  0.45 0.5 ]\n",
      "element: 0.4500000000000001\n",
      "Engine running... testing setting 0.4500000000000001\n",
      "[0.4500000000000001, 5, 20, 1200]\n",
      "Collected Image from  /Users/brianbrogan/Desktop/KI24/ClusterImgGen2024/STERSEQ/output/02. Images/02.1. Raw prediction/1996-081_GFM_SS200000954BR_A2_tissue_cleaned_cortex_crop/clusters/cluster0_from_1996-081_GFM_SS200000954BR_A2_bin100_tissue_cleaned_mean_r10_cap1000.tif  with shape  (2500, 2250)\n"
     ]
    },
    {
     "name": "stderr",
     "output_type": "stream",
     "text": [
      "Sifting: 100%|██████████| 137/137 [00:01<00:00, 90.92it/s, 137/137]\n"
     ]
    },
    {
     "name": "stdout",
     "output_type": "stream",
     "text": [
      "4 CELLS FOUND\n",
      "params testid: [0.1  0.15 0.2  0.25 0.3  0.35 0.4  0.45 0.5 ]\n",
      "element: 0.5000000000000001\n",
      "Engine running... testing setting 0.5000000000000001\n",
      "[0.5000000000000001, 5, 20, 1200]\n",
      "Collected Image from  /Users/brianbrogan/Desktop/KI24/ClusterImgGen2024/STERSEQ/output/02. Images/02.1. Raw prediction/1996-081_GFM_SS200000954BR_A2_tissue_cleaned_cortex_crop/clusters/cluster0_from_1996-081_GFM_SS200000954BR_A2_bin100_tissue_cleaned_mean_r10_cap1000.tif  with shape  (2500, 2250)\n"
     ]
    },
    {
     "name": "stderr",
     "output_type": "stream",
     "text": [
      "Sifting: 100%|██████████| 107/107 [00:01<00:00, 91.59it/s, 107/107]\n"
     ]
    },
    {
     "name": "stdout",
     "output_type": "stream",
     "text": [
      "1 CELLS FOUND\n",
      "Variable Engine: creating segmentations for dilation_kernel_size : 6 settings\n",
      "controls: [0.3, 5, 20, 1200]\n",
      "var seg method: test_params: [0.3, array([2, 3, 4, 5, 6, 7], dtype=uint8), 20, 1200]\n",
      "params testid: [2 3 4 5 6 7]\n",
      "element: 2\n",
      "Engine running... testing setting 2\n",
      "[0.3, 2, 20, 1200]\n",
      "Collected Image from  /Users/brianbrogan/Desktop/KI24/ClusterImgGen2024/STERSEQ/output/02. Images/02.1. Raw prediction/1996-081_GFM_SS200000954BR_A2_tissue_cleaned_cortex_crop/clusters/cluster0_from_1996-081_GFM_SS200000954BR_A2_bin100_tissue_cleaned_mean_r10_cap1000.tif  with shape  (2500, 2250)\n"
     ]
    },
    {
     "name": "stderr",
     "output_type": "stream",
     "text": [
      "Sifting: 100%|██████████| 278/278 [00:03<00:00, 89.37it/s, 278/278]\n"
     ]
    },
    {
     "name": "stdout",
     "output_type": "stream",
     "text": [
      "75 CELLS FOUND\n",
      "params testid: [2 3 4 5 6 7]\n",
      "element: 3\n",
      "Engine running... testing setting 3\n",
      "[0.3, 3, 20, 1200]\n",
      "Collected Image from  /Users/brianbrogan/Desktop/KI24/ClusterImgGen2024/STERSEQ/output/02. Images/02.1. Raw prediction/1996-081_GFM_SS200000954BR_A2_tissue_cleaned_cortex_crop/clusters/cluster0_from_1996-081_GFM_SS200000954BR_A2_bin100_tissue_cleaned_mean_r10_cap1000.tif  with shape  (2500, 2250)\n"
     ]
    },
    {
     "name": "stderr",
     "output_type": "stream",
     "text": [
      "Sifting: 100%|██████████| 278/278 [00:03<00:00, 83.08it/s, 278/278]\n"
     ]
    },
    {
     "name": "stdout",
     "output_type": "stream",
     "text": [
      "76 CELLS FOUND\n",
      "params testid: [2 3 4 5 6 7]\n",
      "element: 4\n",
      "Engine running... testing setting 4\n",
      "[0.3, 4, 20, 1200]\n",
      "Collected Image from  /Users/brianbrogan/Desktop/KI24/ClusterImgGen2024/STERSEQ/output/02. Images/02.1. Raw prediction/1996-081_GFM_SS200000954BR_A2_tissue_cleaned_cortex_crop/clusters/cluster0_from_1996-081_GFM_SS200000954BR_A2_bin100_tissue_cleaned_mean_r10_cap1000.tif  with shape  (2500, 2250)\n"
     ]
    },
    {
     "name": "stderr",
     "output_type": "stream",
     "text": [
      "Sifting: 100%|██████████| 285/285 [00:03<00:00, 84.19it/s, 285/285]\n"
     ]
    },
    {
     "name": "stdout",
     "output_type": "stream",
     "text": [
      "84 CELLS FOUND\n",
      "params testid: [2 3 4 5 6 7]\n",
      "element: 5\n",
      "Engine running... testing setting 5\n",
      "[0.3, 5, 20, 1200]\n",
      "Collected Image from  /Users/brianbrogan/Desktop/KI24/ClusterImgGen2024/STERSEQ/output/02. Images/02.1. Raw prediction/1996-081_GFM_SS200000954BR_A2_tissue_cleaned_cortex_crop/clusters/cluster0_from_1996-081_GFM_SS200000954BR_A2_bin100_tissue_cleaned_mean_r10_cap1000.tif  with shape  (2500, 2250)\n"
     ]
    },
    {
     "name": "stderr",
     "output_type": "stream",
     "text": [
      "Sifting: 100%|██████████| 276/276 [00:03<00:00, 90.12it/s, 276/276]\n"
     ]
    },
    {
     "name": "stdout",
     "output_type": "stream",
     "text": [
      "76 CELLS FOUND\n",
      "params testid: [2 3 4 5 6 7]\n",
      "element: 6\n",
      "Engine running... testing setting 6\n",
      "[0.3, 6, 20, 1200]\n",
      "Collected Image from  /Users/brianbrogan/Desktop/KI24/ClusterImgGen2024/STERSEQ/output/02. Images/02.1. Raw prediction/1996-081_GFM_SS200000954BR_A2_tissue_cleaned_cortex_crop/clusters/cluster0_from_1996-081_GFM_SS200000954BR_A2_bin100_tissue_cleaned_mean_r10_cap1000.tif  with shape  (2500, 2250)\n"
     ]
    },
    {
     "name": "stderr",
     "output_type": "stream",
     "text": [
      "Sifting: 100%|██████████| 282/282 [00:03<00:00, 92.92it/s, 282/282]\n"
     ]
    },
    {
     "name": "stdout",
     "output_type": "stream",
     "text": [
      "81 CELLS FOUND\n",
      "params testid: [2 3 4 5 6 7]\n",
      "element: 7\n",
      "Engine running... testing setting 7\n",
      "[0.3, 7, 20, 1200]\n",
      "Collected Image from  /Users/brianbrogan/Desktop/KI24/ClusterImgGen2024/STERSEQ/output/02. Images/02.1. Raw prediction/1996-081_GFM_SS200000954BR_A2_tissue_cleaned_cortex_crop/clusters/cluster0_from_1996-081_GFM_SS200000954BR_A2_bin100_tissue_cleaned_mean_r10_cap1000.tif  with shape  (2500, 2250)\n"
     ]
    },
    {
     "name": "stderr",
     "output_type": "stream",
     "text": [
      "Sifting: 100%|██████████| 276/276 [00:03<00:00, 89.21it/s, 276/276]\n"
     ]
    },
    {
     "name": "stdout",
     "output_type": "stream",
     "text": [
      "79 CELLS FOUND\n",
      "Variable Engine: creating segmentations for minimum_cell_area : 11 settings\n",
      "controls: [0.3, 5, 20, 1200]\n",
      "var seg method: test_params: [0.3, 5, array([  5,  15,  25,  35,  45,  55,  65,  75,  85,  95, 105]), 1200]\n",
      "params testid: [  5  15  25  35  45  55  65  75  85  95 105]\n",
      "element: 5\n",
      "Engine running... testing setting 5\n",
      "[0.3, 5, 5, 1200]\n",
      "Collected Image from  /Users/brianbrogan/Desktop/KI24/ClusterImgGen2024/STERSEQ/output/02. Images/02.1. Raw prediction/1996-081_GFM_SS200000954BR_A2_tissue_cleaned_cortex_crop/clusters/cluster0_from_1996-081_GFM_SS200000954BR_A2_bin100_tissue_cleaned_mean_r10_cap1000.tif  with shape  (2500, 2250)\n"
     ]
    },
    {
     "name": "stderr",
     "output_type": "stream",
     "text": [
      "Sifting: 100%|██████████| 276/276 [00:03<00:00, 91.83it/s, 276/276]\n"
     ]
    },
    {
     "name": "stdout",
     "output_type": "stream",
     "text": [
      "77 CELLS FOUND\n",
      "params testid: [  5  15  25  35  45  55  65  75  85  95 105]\n",
      "element: 15\n",
      "Engine running... testing setting 15\n",
      "[0.3, 5, 15, 1200]\n",
      "Collected Image from  /Users/brianbrogan/Desktop/KI24/ClusterImgGen2024/STERSEQ/output/02. Images/02.1. Raw prediction/1996-081_GFM_SS200000954BR_A2_tissue_cleaned_cortex_crop/clusters/cluster0_from_1996-081_GFM_SS200000954BR_A2_bin100_tissue_cleaned_mean_r10_cap1000.tif  with shape  (2500, 2250)\n"
     ]
    },
    {
     "name": "stderr",
     "output_type": "stream",
     "text": [
      "Sifting: 100%|██████████| 276/276 [00:03<00:00, 91.64it/s, 276/276]\n"
     ]
    },
    {
     "name": "stdout",
     "output_type": "stream",
     "text": [
      "77 CELLS FOUND\n",
      "params testid: [  5  15  25  35  45  55  65  75  85  95 105]\n",
      "element: 25\n",
      "Engine running... testing setting 25\n",
      "[0.3, 5, 25, 1200]\n",
      "Collected Image from  /Users/brianbrogan/Desktop/KI24/ClusterImgGen2024/STERSEQ/output/02. Images/02.1. Raw prediction/1996-081_GFM_SS200000954BR_A2_tissue_cleaned_cortex_crop/clusters/cluster0_from_1996-081_GFM_SS200000954BR_A2_bin100_tissue_cleaned_mean_r10_cap1000.tif  with shape  (2500, 2250)\n"
     ]
    },
    {
     "name": "stderr",
     "output_type": "stream",
     "text": [
      "Sifting: 100%|██████████| 276/276 [00:02<00:00, 92.64it/s, 276/276] \n"
     ]
    },
    {
     "name": "stdout",
     "output_type": "stream",
     "text": [
      "76 CELLS FOUND\n",
      "params testid: [  5  15  25  35  45  55  65  75  85  95 105]\n",
      "element: 35\n",
      "Engine running... testing setting 35\n",
      "[0.3, 5, 35, 1200]\n",
      "Collected Image from  /Users/brianbrogan/Desktop/KI24/ClusterImgGen2024/STERSEQ/output/02. Images/02.1. Raw prediction/1996-081_GFM_SS200000954BR_A2_tissue_cleaned_cortex_crop/clusters/cluster0_from_1996-081_GFM_SS200000954BR_A2_bin100_tissue_cleaned_mean_r10_cap1000.tif  with shape  (2500, 2250)\n"
     ]
    },
    {
     "name": "stderr",
     "output_type": "stream",
     "text": [
      "Sifting: 100%|██████████| 276/276 [00:03<00:00, 89.97it/s, 276/276] \n"
     ]
    },
    {
     "name": "stdout",
     "output_type": "stream",
     "text": [
      "76 CELLS FOUND\n",
      "params testid: [  5  15  25  35  45  55  65  75  85  95 105]\n",
      "element: 45\n",
      "Engine running... testing setting 45\n",
      "[0.3, 5, 45, 1200]\n",
      "Collected Image from  /Users/brianbrogan/Desktop/KI24/ClusterImgGen2024/STERSEQ/output/02. Images/02.1. Raw prediction/1996-081_GFM_SS200000954BR_A2_tissue_cleaned_cortex_crop/clusters/cluster0_from_1996-081_GFM_SS200000954BR_A2_bin100_tissue_cleaned_mean_r10_cap1000.tif  with shape  (2500, 2250)\n"
     ]
    },
    {
     "name": "stderr",
     "output_type": "stream",
     "text": [
      "Sifting: 100%|██████████| 276/276 [00:02<00:00, 93.22it/s, 276/276] \n"
     ]
    },
    {
     "name": "stdout",
     "output_type": "stream",
     "text": [
      "76 CELLS FOUND\n",
      "params testid: [  5  15  25  35  45  55  65  75  85  95 105]\n",
      "element: 55\n",
      "Engine running... testing setting 55\n",
      "[0.3, 5, 55, 1200]\n",
      "Collected Image from  /Users/brianbrogan/Desktop/KI24/ClusterImgGen2024/STERSEQ/output/02. Images/02.1. Raw prediction/1996-081_GFM_SS200000954BR_A2_tissue_cleaned_cortex_crop/clusters/cluster0_from_1996-081_GFM_SS200000954BR_A2_bin100_tissue_cleaned_mean_r10_cap1000.tif  with shape  (2500, 2250)\n"
     ]
    },
    {
     "name": "stderr",
     "output_type": "stream",
     "text": [
      "Sifting: 100%|██████████| 276/276 [00:03<00:00, 85.92it/s, 276/276]\n"
     ]
    },
    {
     "name": "stdout",
     "output_type": "stream",
     "text": [
      "75 CELLS FOUND\n",
      "params testid: [  5  15  25  35  45  55  65  75  85  95 105]\n",
      "element: 65\n",
      "Engine running... testing setting 65\n",
      "[0.3, 5, 65, 1200]\n",
      "Collected Image from  /Users/brianbrogan/Desktop/KI24/ClusterImgGen2024/STERSEQ/output/02. Images/02.1. Raw prediction/1996-081_GFM_SS200000954BR_A2_tissue_cleaned_cortex_crop/clusters/cluster0_from_1996-081_GFM_SS200000954BR_A2_bin100_tissue_cleaned_mean_r10_cap1000.tif  with shape  (2500, 2250)\n"
     ]
    },
    {
     "name": "stderr",
     "output_type": "stream",
     "text": [
      "Sifting: 100%|██████████| 276/276 [00:03<00:00, 91.33it/s, 276/276]\n"
     ]
    },
    {
     "name": "stdout",
     "output_type": "stream",
     "text": [
      "75 CELLS FOUND\n",
      "params testid: [  5  15  25  35  45  55  65  75  85  95 105]\n",
      "element: 75\n",
      "Engine running... testing setting 75\n",
      "[0.3, 5, 75, 1200]\n",
      "Collected Image from  /Users/brianbrogan/Desktop/KI24/ClusterImgGen2024/STERSEQ/output/02. Images/02.1. Raw prediction/1996-081_GFM_SS200000954BR_A2_tissue_cleaned_cortex_crop/clusters/cluster0_from_1996-081_GFM_SS200000954BR_A2_bin100_tissue_cleaned_mean_r10_cap1000.tif  with shape  (2500, 2250)\n"
     ]
    },
    {
     "name": "stderr",
     "output_type": "stream",
     "text": [
      "Sifting: 100%|██████████| 276/276 [00:03<00:00, 86.72it/s, 276/276]\n"
     ]
    },
    {
     "name": "stdout",
     "output_type": "stream",
     "text": [
      "74 CELLS FOUND\n",
      "params testid: [  5  15  25  35  45  55  65  75  85  95 105]\n",
      "element: 85\n",
      "Engine running... testing setting 85\n",
      "[0.3, 5, 85, 1200]\n",
      "Collected Image from  /Users/brianbrogan/Desktop/KI24/ClusterImgGen2024/STERSEQ/output/02. Images/02.1. Raw prediction/1996-081_GFM_SS200000954BR_A2_tissue_cleaned_cortex_crop/clusters/cluster0_from_1996-081_GFM_SS200000954BR_A2_bin100_tissue_cleaned_mean_r10_cap1000.tif  with shape  (2500, 2250)\n"
     ]
    },
    {
     "name": "stderr",
     "output_type": "stream",
     "text": [
      "Sifting: 100%|██████████| 276/276 [00:02<00:00, 92.50it/s, 276/276]\n"
     ]
    },
    {
     "name": "stdout",
     "output_type": "stream",
     "text": [
      "74 CELLS FOUND\n",
      "params testid: [  5  15  25  35  45  55  65  75  85  95 105]\n",
      "element: 95\n",
      "Engine running... testing setting 95\n",
      "[0.3, 5, 95, 1200]\n",
      "Collected Image from  /Users/brianbrogan/Desktop/KI24/ClusterImgGen2024/STERSEQ/output/02. Images/02.1. Raw prediction/1996-081_GFM_SS200000954BR_A2_tissue_cleaned_cortex_crop/clusters/cluster0_from_1996-081_GFM_SS200000954BR_A2_bin100_tissue_cleaned_mean_r10_cap1000.tif  with shape  (2500, 2250)\n"
     ]
    },
    {
     "name": "stderr",
     "output_type": "stream",
     "text": [
      "Sifting: 100%|██████████| 276/276 [00:03<00:00, 90.38it/s, 276/276]\n"
     ]
    },
    {
     "name": "stdout",
     "output_type": "stream",
     "text": [
      "74 CELLS FOUND\n",
      "params testid: [  5  15  25  35  45  55  65  75  85  95 105]\n",
      "element: 105\n",
      "Engine running... testing setting 105\n",
      "[0.3, 5, 105, 1200]\n",
      "Collected Image from  /Users/brianbrogan/Desktop/KI24/ClusterImgGen2024/STERSEQ/output/02. Images/02.1. Raw prediction/1996-081_GFM_SS200000954BR_A2_tissue_cleaned_cortex_crop/clusters/cluster0_from_1996-081_GFM_SS200000954BR_A2_bin100_tissue_cleaned_mean_r10_cap1000.tif  with shape  (2500, 2250)\n"
     ]
    },
    {
     "name": "stderr",
     "output_type": "stream",
     "text": [
      "Sifting: 100%|██████████| 276/276 [00:03<00:00, 89.86it/s, 276/276] \n"
     ]
    },
    {
     "name": "stdout",
     "output_type": "stream",
     "text": [
      "74 CELLS FOUND\n",
      "Variable Engine: creating segmentations for maximum_cell_area : 8 settings\n",
      "controls: [0.3, 5, 20, 1200]\n",
      "var seg method: test_params: [0.3, 5, 20, array([ 850,  900,  950, 1000, 1050, 1100, 1150, 1200])]\n",
      "params testid: [ 850  900  950 1000 1050 1100 1150 1200]\n",
      "element: 850\n",
      "Engine running... testing setting 850\n",
      "[0.3, 5, 20, 850]\n",
      "Collected Image from  /Users/brianbrogan/Desktop/KI24/ClusterImgGen2024/STERSEQ/output/02. Images/02.1. Raw prediction/1996-081_GFM_SS200000954BR_A2_tissue_cleaned_cortex_crop/clusters/cluster0_from_1996-081_GFM_SS200000954BR_A2_bin100_tissue_cleaned_mean_r10_cap1000.tif  with shape  (2500, 2250)\n"
     ]
    },
    {
     "name": "stderr",
     "output_type": "stream",
     "text": [
      "Sifting: 100%|██████████| 276/276 [00:03<00:00, 89.02it/s, 276/276]\n"
     ]
    },
    {
     "name": "stdout",
     "output_type": "stream",
     "text": [
      "36 CELLS FOUND\n",
      "params testid: [ 850  900  950 1000 1050 1100 1150 1200]\n",
      "element: 900\n",
      "Engine running... testing setting 900\n",
      "[0.3, 5, 20, 900]\n",
      "Collected Image from  /Users/brianbrogan/Desktop/KI24/ClusterImgGen2024/STERSEQ/output/02. Images/02.1. Raw prediction/1996-081_GFM_SS200000954BR_A2_tissue_cleaned_cortex_crop/clusters/cluster0_from_1996-081_GFM_SS200000954BR_A2_bin100_tissue_cleaned_mean_r10_cap1000.tif  with shape  (2500, 2250)\n"
     ]
    },
    {
     "name": "stderr",
     "output_type": "stream",
     "text": [
      "Sifting: 100%|██████████| 276/276 [00:03<00:00, 87.73it/s, 276/276]\n"
     ]
    },
    {
     "name": "stdout",
     "output_type": "stream",
     "text": [
      "41 CELLS FOUND\n",
      "params testid: [ 850  900  950 1000 1050 1100 1150 1200]\n",
      "element: 950\n",
      "Engine running... testing setting 950\n",
      "[0.3, 5, 20, 950]\n",
      "Collected Image from  /Users/brianbrogan/Desktop/KI24/ClusterImgGen2024/STERSEQ/output/02. Images/02.1. Raw prediction/1996-081_GFM_SS200000954BR_A2_tissue_cleaned_cortex_crop/clusters/cluster0_from_1996-081_GFM_SS200000954BR_A2_bin100_tissue_cleaned_mean_r10_cap1000.tif  with shape  (2500, 2250)\n"
     ]
    },
    {
     "name": "stderr",
     "output_type": "stream",
     "text": [
      "Sifting: 100%|██████████| 276/276 [00:03<00:00, 91.26it/s, 276/276] \n"
     ]
    },
    {
     "name": "stdout",
     "output_type": "stream",
     "text": [
      "44 CELLS FOUND\n",
      "params testid: [ 850  900  950 1000 1050 1100 1150 1200]\n",
      "element: 1000\n",
      "Engine running... testing setting 1000\n",
      "[0.3, 5, 20, 1000]\n",
      "Collected Image from  /Users/brianbrogan/Desktop/KI24/ClusterImgGen2024/STERSEQ/output/02. Images/02.1. Raw prediction/1996-081_GFM_SS200000954BR_A2_tissue_cleaned_cortex_crop/clusters/cluster0_from_1996-081_GFM_SS200000954BR_A2_bin100_tissue_cleaned_mean_r10_cap1000.tif  with shape  (2500, 2250)\n"
     ]
    },
    {
     "name": "stderr",
     "output_type": "stream",
     "text": [
      "Sifting: 100%|██████████| 276/276 [00:03<00:00, 91.31it/s, 276/276]\n"
     ]
    },
    {
     "name": "stdout",
     "output_type": "stream",
     "text": [
      "49 CELLS FOUND\n",
      "params testid: [ 850  900  950 1000 1050 1100 1150 1200]\n",
      "element: 1050\n",
      "Engine running... testing setting 1050\n",
      "[0.3, 5, 20, 1050]\n",
      "Collected Image from  /Users/brianbrogan/Desktop/KI24/ClusterImgGen2024/STERSEQ/output/02. Images/02.1. Raw prediction/1996-081_GFM_SS200000954BR_A2_tissue_cleaned_cortex_crop/clusters/cluster0_from_1996-081_GFM_SS200000954BR_A2_bin100_tissue_cleaned_mean_r10_cap1000.tif  with shape  (2500, 2250)\n"
     ]
    },
    {
     "name": "stderr",
     "output_type": "stream",
     "text": [
      "Sifting: 100%|██████████| 276/276 [00:03<00:00, 91.83it/s, 276/276] \n"
     ]
    },
    {
     "name": "stdout",
     "output_type": "stream",
     "text": [
      "57 CELLS FOUND\n",
      "params testid: [ 850  900  950 1000 1050 1100 1150 1200]\n",
      "element: 1100\n",
      "Engine running... testing setting 1100\n",
      "[0.3, 5, 20, 1100]\n",
      "Collected Image from  /Users/brianbrogan/Desktop/KI24/ClusterImgGen2024/STERSEQ/output/02. Images/02.1. Raw prediction/1996-081_GFM_SS200000954BR_A2_tissue_cleaned_cortex_crop/clusters/cluster0_from_1996-081_GFM_SS200000954BR_A2_bin100_tissue_cleaned_mean_r10_cap1000.tif  with shape  (2500, 2250)\n"
     ]
    },
    {
     "name": "stderr",
     "output_type": "stream",
     "text": [
      "Sifting: 100%|██████████| 276/276 [00:03<00:00, 89.31it/s, 276/276]\n"
     ]
    },
    {
     "name": "stdout",
     "output_type": "stream",
     "text": [
      "64 CELLS FOUND\n",
      "params testid: [ 850  900  950 1000 1050 1100 1150 1200]\n",
      "element: 1150\n",
      "Engine running... testing setting 1150\n",
      "[0.3, 5, 20, 1150]\n",
      "Collected Image from  /Users/brianbrogan/Desktop/KI24/ClusterImgGen2024/STERSEQ/output/02. Images/02.1. Raw prediction/1996-081_GFM_SS200000954BR_A2_tissue_cleaned_cortex_crop/clusters/cluster0_from_1996-081_GFM_SS200000954BR_A2_bin100_tissue_cleaned_mean_r10_cap1000.tif  with shape  (2500, 2250)\n"
     ]
    },
    {
     "name": "stderr",
     "output_type": "stream",
     "text": [
      "Sifting: 100%|██████████| 276/276 [00:03<00:00, 89.55it/s, 276/276] \n"
     ]
    },
    {
     "name": "stdout",
     "output_type": "stream",
     "text": [
      "70 CELLS FOUND\n",
      "params testid: [ 850  900  950 1000 1050 1100 1150 1200]\n",
      "element: 1200\n",
      "Engine running... testing setting 1200\n",
      "[0.3, 5, 20, 1200]\n",
      "Collected Image from  /Users/brianbrogan/Desktop/KI24/ClusterImgGen2024/STERSEQ/output/02. Images/02.1. Raw prediction/1996-081_GFM_SS200000954BR_A2_tissue_cleaned_cortex_crop/clusters/cluster0_from_1996-081_GFM_SS200000954BR_A2_bin100_tissue_cleaned_mean_r10_cap1000.tif  with shape  (2500, 2250)\n"
     ]
    },
    {
     "name": "stderr",
     "output_type": "stream",
     "text": [
      "Sifting: 100%|██████████| 276/276 [00:03<00:00, 91.83it/s, 276/276] \n"
     ]
    },
    {
     "name": "stdout",
     "output_type": "stream",
     "text": [
      "76 CELLS FOUND\n",
      "Creating exports...\n",
      "/Users/brianbrogan/Desktop/KI24/mask_maker_output/variable_segmentation_metadata.parquet\n",
      "Done.\n",
      "<class 'pandas.core.frame.DataFrame'>\n",
      "RangeIndex: 34 entries, 0 to 33\n",
      "Data columns (total 8 columns):\n",
      " #   Column                Non-Null Count  Dtype  \n",
      "---  ------                --------------  -----  \n",
      " 0   test_paramID          34 non-null     object \n",
      " 1   num_cells             34 non-null     int64  \n",
      " 2   dt_percentile         34 non-null     float64\n",
      " 3   dilation_kernel_size  34 non-null     int64  \n",
      " 4   minimum_cell_area     34 non-null     int64  \n",
      " 5   maximum_cell_area     34 non-null     int64  \n",
      " 6   markers               34 non-null     object \n",
      " 7   contours              34 non-null     object \n",
      "dtypes: float64(1), int64(4), object(3)\n",
      "memory usage: 2.3+ KB\n",
      "None\n"
     ]
    },
    {
     "data": {
      "text/html": [
       "<div>\n",
       "<style scoped>\n",
       "    .dataframe tbody tr th:only-of-type {\n",
       "        vertical-align: middle;\n",
       "    }\n",
       "\n",
       "    .dataframe tbody tr th {\n",
       "        vertical-align: top;\n",
       "    }\n",
       "\n",
       "    .dataframe thead th {\n",
       "        text-align: right;\n",
       "    }\n",
       "</style>\n",
       "<table border=\"1\" class=\"dataframe\">\n",
       "  <thead>\n",
       "    <tr style=\"text-align: right;\">\n",
       "      <th></th>\n",
       "      <th>test_paramID</th>\n",
       "      <th>num_cells</th>\n",
       "      <th>dt_percentile</th>\n",
       "      <th>dilation_kernel_size</th>\n",
       "      <th>minimum_cell_area</th>\n",
       "      <th>maximum_cell_area</th>\n",
       "      <th>markers</th>\n",
       "      <th>contours</th>\n",
       "    </tr>\n",
       "  </thead>\n",
       "  <tbody>\n",
       "    <tr>\n",
       "      <th>0</th>\n",
       "      <td>dt_percentile0</td>\n",
       "      <td>696</td>\n",
       "      <td>0.10</td>\n",
       "      <td>5</td>\n",
       "      <td>20</td>\n",
       "      <td>1200</td>\n",
       "      <td>[[-1, -1, -1, -1, -1, -1, -1, -1, -1, -1, -1, ...</td>\n",
       "      <td>[[[[302, 2482]], [[301, 2483]], [[300, 2484]],...</td>\n",
       "    </tr>\n",
       "    <tr>\n",
       "      <th>1</th>\n",
       "      <td>dt_percentile1</td>\n",
       "      <td>372</td>\n",
       "      <td>0.15</td>\n",
       "      <td>5</td>\n",
       "      <td>20</td>\n",
       "      <td>1200</td>\n",
       "      <td>[[-1, -1, -1, -1, -1, -1, -1, -1, -1, -1, -1, ...</td>\n",
       "      <td>[[[[303, 2481]], [[302, 2482]], [[301, 2483]],...</td>\n",
       "    </tr>\n",
       "    <tr>\n",
       "      <th>2</th>\n",
       "      <td>dt_percentile2</td>\n",
       "      <td>218</td>\n",
       "      <td>0.20</td>\n",
       "      <td>5</td>\n",
       "      <td>20</td>\n",
       "      <td>1200</td>\n",
       "      <td>[[-1, -1, -1, -1, -1, -1, -1, -1, -1, -1, -1, ...</td>\n",
       "      <td>[[[[303, 2481]], [[302, 2482]], [[301, 2483]],...</td>\n",
       "    </tr>\n",
       "    <tr>\n",
       "      <th>3</th>\n",
       "      <td>dt_percentile3</td>\n",
       "      <td>141</td>\n",
       "      <td>0.25</td>\n",
       "      <td>5</td>\n",
       "      <td>20</td>\n",
       "      <td>1200</td>\n",
       "      <td>[[-1, -1, -1, -1, -1, -1, -1, -1, -1, -1, -1, ...</td>\n",
       "      <td>[[[[303, 2481]], [[302, 2482]], [[301, 2483]],...</td>\n",
       "    </tr>\n",
       "    <tr>\n",
       "      <th>4</th>\n",
       "      <td>dt_percentile4</td>\n",
       "      <td>76</td>\n",
       "      <td>0.30</td>\n",
       "      <td>5</td>\n",
       "      <td>20</td>\n",
       "      <td>1200</td>\n",
       "      <td>[[-1, -1, -1, -1, -1, -1, -1, -1, -1, -1, -1, ...</td>\n",
       "      <td>[[[[303, 2481]], [[302, 2482]], [[301, 2483]],...</td>\n",
       "    </tr>\n",
       "  </tbody>\n",
       "</table>\n",
       "</div>"
      ],
      "text/plain": [
       "     test_paramID  num_cells  dt_percentile  dilation_kernel_size  \\\n",
       "0  dt_percentile0        696           0.10                     5   \n",
       "1  dt_percentile1        372           0.15                     5   \n",
       "2  dt_percentile2        218           0.20                     5   \n",
       "3  dt_percentile3        141           0.25                     5   \n",
       "4  dt_percentile4         76           0.30                     5   \n",
       "\n",
       "   minimum_cell_area  maximum_cell_area  \\\n",
       "0                 20               1200   \n",
       "1                 20               1200   \n",
       "2                 20               1200   \n",
       "3                 20               1200   \n",
       "4                 20               1200   \n",
       "\n",
       "                                             markers  \\\n",
       "0  [[-1, -1, -1, -1, -1, -1, -1, -1, -1, -1, -1, ...   \n",
       "1  [[-1, -1, -1, -1, -1, -1, -1, -1, -1, -1, -1, ...   \n",
       "2  [[-1, -1, -1, -1, -1, -1, -1, -1, -1, -1, -1, ...   \n",
       "3  [[-1, -1, -1, -1, -1, -1, -1, -1, -1, -1, -1, ...   \n",
       "4  [[-1, -1, -1, -1, -1, -1, -1, -1, -1, -1, -1, ...   \n",
       "\n",
       "                                            contours  \n",
       "0  [[[[302, 2482]], [[301, 2483]], [[300, 2484]],...  \n",
       "1  [[[[303, 2481]], [[302, 2482]], [[301, 2483]],...  \n",
       "2  [[[[303, 2481]], [[302, 2482]], [[301, 2483]],...  \n",
       "3  [[[[303, 2481]], [[302, 2482]], [[301, 2483]],...  \n",
       "4  [[[[303, 2481]], [[302, 2482]], [[301, 2483]],...  "
      ]
     },
     "execution_count": 8,
     "metadata": {},
     "output_type": "execute_result"
    }
   ],
   "source": [
    "origin_csv_fname = None\n",
    "full_tiff = '/Users/brianbrogan/Desktop/KI24/ClusterImgGen2024/STERSEQ/output/02. Images/02.1. Raw prediction/1996-081_GFM_SS200000954BR_A2_tissue_cleaned_cortex_crop/clusters/cluster0_from_1996-081_GFM_SS200000954BR_A2_bin100_tissue_cleaned_mean_r10_cap1000.tif'\n",
    "color_slice = '/Users/brianbrogan/Desktop/KI24/figures/test_slice.tiff'\n",
    "\n",
    "image_fname = full_tiff\n",
    "\n",
    "## Variable Definition - start/stop - ensure range is divisible by step\n",
    "\n",
    "# Distance Transform Percentile for Watershed Marker Definition\n",
    "dtp = [0.1, 0.5] \n",
    "dtp_step = 0.05\n",
    "\n",
    "# Watershed Dilation Kernel Size\n",
    "dks = [2, 7]\n",
    "dks_step = 1\n",
    "\n",
    "# Minimum Cell Area Count (pixels)\n",
    "minca = [5, 105]\n",
    "minca_step = 10\n",
    "\n",
    "# Maximum Cell Area Count (pixels)\n",
    "maxca = [850, 1200]\n",
    "maxca_step = 50\n",
    "\n",
    "\n",
    "watershed_var_ranges = {\n",
    "    'dt_percentile': np.arange(dtp[0], dtp[1]+dtp_step, dtp_step),\n",
    "    'dilation_kernel_size': np.arange(dks[0], dks[1]+dks_step, dks_step, dtype=np.uint8),\n",
    "    'minimum_cell_area': np.arange(minca[0], minca[1]+minca_step, minca_step),\n",
    "    'maximum_cell_area': np.arange(maxca[0], maxca[1]+maxca_step, maxca_step)\n",
    "}\n",
    "\n",
    "print(\"Origin Data File: \", origin_csv_fname)\n",
    "print(\"Selected Image File: \", image_fname)\n",
    "print(\"Number of params to be analyzed: \", len(watershed_var_ranges))\n",
    "\n",
    "\n",
    "#tiff.imwrite('figures/MaskMaker_test1.tiff', masker.preproc, photometric='minisblack')\n",
    "test_segmenter = ControlSegmenter(image_fname= image_fname,\n",
    "                                  test_window=[x_win, y_win],\n",
    "                                    var_ranges= watershed_var_ranges,\n",
    "                                    controls= [0.3,\n",
    "                                                5,\n",
    "                                                20,\n",
    "                                                1200],\n",
    "                                    #area_filter_jobn=4,\n",
    "                                    channel_id=1\n",
    "                                    )\n",
    "test_segmenter.export(out_dir='/Users/brianbrogan/Desktop/KI24/mask_maker_output')\n",
    "print(test_segmenter.var_seg_fulldf.info())\n",
    "test_segmenter.var_seg_fulldf.head()"
   ]
  },
  {
   "cell_type": "code",
   "execution_count": 9,
   "metadata": {},
   "outputs": [
    {
     "name": "stdout",
     "output_type": "stream",
     "text": [
      "(2500, 2250)\n"
     ]
    }
   ],
   "source": [
    "marker_check = np.array(test_segmenter.var_seg_fulldf.loc[1, 'markers'])\n",
    "print(marker_check.shape)"
   ]
  },
  {
   "cell_type": "code",
   "execution_count": 10,
   "metadata": {},
   "outputs": [],
   "source": [
    "manager = DataManager(\n",
    "    origin_csv_fname='/Users/brianbrogan/Desktop/KI24/ClusterImgGen2024/STERSEQ/input/1996-081_GFM_SS200000954BR_A2_tissue_cleaned_cortex_crop.csv',\n",
    "    annotation_fname='/Users/brianbrogan/Desktop/KI24/ClusterImgGen2024/STERSEQ/output/01. Co-expression network/1996-081_GFM_SS200000954BR_A2_bin100_tissue_cleaned/Cluster_annotation.csv'\n",
    ")"
   ]
  },
  {
   "cell_type": "code",
   "execution_count": 11,
   "metadata": {},
   "outputs": [
    {
     "data": {
      "text/plain": [
       "(2500, 2250)"
      ]
     },
     "execution_count": 11,
     "metadata": {},
     "output_type": "execute_result"
    }
   ],
   "source": [
    "manager.markers[1].shape"
   ]
  },
  {
   "cell_type": "code",
   "execution_count": 12,
   "metadata": {},
   "outputs": [
    {
     "name": "stderr",
     "output_type": "stream",
     "text": [
      "Finding positive indicators: 100%|██████████| 3/3 [00:00<00:00,  3.31step/s]\n",
      "Finding negative indicators: 100%|██████████| 4/4 [00:01<00:00,  3.81cluster/s]\n"
     ]
    },
    {
     "data": {
      "text/html": [
       "<div>\n",
       "<style scoped>\n",
       "    .dataframe tbody tr th:only-of-type {\n",
       "        vertical-align: middle;\n",
       "    }\n",
       "\n",
       "    .dataframe tbody tr th {\n",
       "        vertical-align: top;\n",
       "    }\n",
       "\n",
       "    .dataframe thead th {\n",
       "        text-align: right;\n",
       "    }\n",
       "</style>\n",
       "<table border=\"1\" class=\"dataframe\">\n",
       "  <thead>\n",
       "    <tr style=\"text-align: right;\">\n",
       "      <th></th>\n",
       "      <th>geneID</th>\n",
       "      <th>count</th>\n",
       "      <th>cluster</th>\n",
       "      <th>type</th>\n",
       "    </tr>\n",
       "  </thead>\n",
       "  <tbody>\n",
       "    <tr>\n",
       "      <th>0</th>\n",
       "      <td>MT-RNR2</td>\n",
       "      <td>182774</td>\n",
       "      <td>0</td>\n",
       "      <td>pos</td>\n",
       "    </tr>\n",
       "    <tr>\n",
       "      <th>1</th>\n",
       "      <td>MT-CO2</td>\n",
       "      <td>42167</td>\n",
       "      <td>0</td>\n",
       "      <td>pos</td>\n",
       "    </tr>\n",
       "    <tr>\n",
       "      <th>2</th>\n",
       "      <td>MT-TV</td>\n",
       "      <td>39477</td>\n",
       "      <td>0</td>\n",
       "      <td>pos</td>\n",
       "    </tr>\n",
       "    <tr>\n",
       "      <th>3</th>\n",
       "      <td>MT-CO3</td>\n",
       "      <td>39279</td>\n",
       "      <td>0</td>\n",
       "      <td>pos</td>\n",
       "    </tr>\n",
       "    <tr>\n",
       "      <th>4</th>\n",
       "      <td>MT-ND1</td>\n",
       "      <td>34312</td>\n",
       "      <td>0</td>\n",
       "      <td>pos</td>\n",
       "    </tr>\n",
       "  </tbody>\n",
       "</table>\n",
       "</div>"
      ],
      "text/plain": [
       "    geneID   count cluster type\n",
       "0  MT-RNR2  182774       0  pos\n",
       "1   MT-CO2   42167       0  pos\n",
       "2    MT-TV   39477       0  pos\n",
       "3   MT-CO3   39279       0  pos\n",
       "4   MT-ND1   34312       0  pos"
      ]
     },
     "execution_count": 12,
     "metadata": {},
     "output_type": "execute_result"
    }
   ],
   "source": [
    "indicatorTester = Indicator(\n",
    "    origin_csv = manager.origin_csv,\n",
    "    annotation = manager.annotation,\n",
    "    n_neg=40\n",
    "    )\n",
    "indicatorTester.indicators.head()"
   ]
  },
  {
   "cell_type": "code",
   "execution_count": 49,
   "metadata": {},
   "outputs": [
    {
     "name": "stdout",
     "output_type": "stream",
     "text": [
      "(40, 4)\n"
     ]
    },
    {
     "data": {
      "text/html": [
       "<div>\n",
       "<style scoped>\n",
       "    .dataframe tbody tr th:only-of-type {\n",
       "        vertical-align: middle;\n",
       "    }\n",
       "\n",
       "    .dataframe tbody tr th {\n",
       "        vertical-align: top;\n",
       "    }\n",
       "\n",
       "    .dataframe thead th {\n",
       "        text-align: right;\n",
       "    }\n",
       "</style>\n",
       "<table border=\"1\" class=\"dataframe\">\n",
       "  <thead>\n",
       "    <tr style=\"text-align: right;\">\n",
       "      <th></th>\n",
       "      <th>geneID</th>\n",
       "      <th>count</th>\n",
       "      <th>cluster</th>\n",
       "      <th>type</th>\n",
       "    </tr>\n",
       "  </thead>\n",
       "  <tbody>\n",
       "    <tr>\n",
       "      <th>0</th>\n",
       "      <td>TCF12</td>\n",
       "      <td>754</td>\n",
       "      <td>4</td>\n",
       "      <td>neg</td>\n",
       "    </tr>\n",
       "    <tr>\n",
       "      <th>133</th>\n",
       "      <td>ACER3</td>\n",
       "      <td>662</td>\n",
       "      <td>11</td>\n",
       "      <td>neg</td>\n",
       "    </tr>\n",
       "    <tr>\n",
       "      <th>1</th>\n",
       "      <td>STAT3</td>\n",
       "      <td>654</td>\n",
       "      <td>4</td>\n",
       "      <td>neg</td>\n",
       "    </tr>\n",
       "    <tr>\n",
       "      <th>211</th>\n",
       "      <td>SYNM</td>\n",
       "      <td>610</td>\n",
       "      <td>13</td>\n",
       "      <td>neg</td>\n",
       "    </tr>\n",
       "    <tr>\n",
       "      <th>134</th>\n",
       "      <td>FARS2</td>\n",
       "      <td>597</td>\n",
       "      <td>11</td>\n",
       "      <td>neg</td>\n",
       "    </tr>\n",
       "  </tbody>\n",
       "</table>\n",
       "</div>"
      ],
      "text/plain": [
       "    geneID count cluster type\n",
       "0    TCF12   754       4  neg\n",
       "133  ACER3   662      11  neg\n",
       "1    STAT3   654       4  neg\n",
       "211   SYNM   610      13  neg\n",
       "134  FARS2   597      11  neg"
      ]
     },
     "execution_count": 49,
     "metadata": {},
     "output_type": "execute_result"
    }
   ],
   "source": [
    "print(indicatorTester.negative_indicators.shape)\n",
    "indicatorTester.negative_indicators.head()"
   ]
  },
  {
   "cell_type": "code",
   "execution_count": 13,
   "metadata": {},
   "outputs": [],
   "source": [
    "comparatorTester = Comparator(\n",
    "    indicator = indicatorTester,\n",
    "    metadata = manager.metadata,\n",
    "    markers = manager.markers,\n",
    "    contours = manager.contours\n",
    ")"
   ]
  },
  {
   "cell_type": "code",
   "execution_count": 37,
   "metadata": {},
   "outputs": [],
   "source": [
    "#neg_indic_mask = comparatorTester.create_indicator_mask(xrange = x_win, \n",
    "#                                                        yrange = y_win,\n",
    "#                                                        indicators = indicatorTester.create_indicator_dict(indicatorTester.negative_indicators))\n",
    "#x_win = (8000, 9000)\n",
    "#y_win = (5000, 6000)\n",
    "\n",
    "#indic_mask = comparatorTester.create_indicator_mask(xrange = x_win,\n",
    "#                                                    yrange = y_win,\n",
    "#                                                    indicators = indicatorTester.create_indicator_dict(indicatorTester.indicators))\n",
    "#print(np.unique(indic_mask))\n",
    "#print(indic_mask.shape)"
   ]
  },
  {
   "cell_type": "code",
   "execution_count": null,
   "metadata": {},
   "outputs": [
    {
     "name": "stdout",
     "output_type": "stream",
     "text": [
      "[-1  0  1]\n",
      "(2500, 2250)\n"
     ]
    }
   ],
   "source": [
    "#test_dict = {'MT-CO2': 1,'MT-TV': 1,'MT-CO3': 1}\n",
    "#test_neg_dict = indicatorTester.create_indicator_dict(indicatorTester.negative_indicators)\n",
    "full_inddict = indicatorTester.create_indicator_dict(indicatorTester.indicators)\n",
    "\n",
    "new_indic_mask = comparatorTester.create_indicator_mask_ex(xrange = x_win, #(0, 12001), #,\n",
    "                                                           yrange = y_win, #(0, 11301), #,\n",
    "                                                           indicators = full_inddict)\n",
    "test_rgb = comparatorTester.rgb_indicator_mask(new_indic_mask)\n",
    "tiff.imwrite('/Users/brianbrogan/Desktop/KI24/figures/rgb_NEWwindow.tiff', test_rgb)\n",
    "print(np.unique(new_indic_mask))\n",
    "print(new_indic_mask.shape)\n"
   ]
  },
  {
   "cell_type": "code",
   "execution_count": 23,
   "metadata": {},
   "outputs": [],
   "source": [
    "#full_inddict = indicatorTester.create_indicator_dict(indicatorTester.indicators)\n",
    "\n",
    "#indic_mask = comparatorTester.window_indicator_mask(full_shape =(12001, 11301),\n",
    "#                                                    xrange = y_win, #(0, 12001),\n",
    "#                                                    yrange = x_win, #(0, 11301),\n",
    "#                                                    indicators = full_inddict)\n",
    "#test_rgb = comparatorTester.rgb_indicator_mask(indic_mask)\n",
    "#tiff.imwrite('/Users/brianbrogan/Desktop/KI24/figures/rgb_windowindicators.tiff', test_rgb)\n",
    "#print(np.unique(indic_mask))\n",
    "#print(indic_mask.shape)"
   ]
  },
  {
   "cell_type": "code",
   "execution_count": 24,
   "metadata": {},
   "outputs": [
    {
     "name": "stdout",
     "output_type": "stream",
     "text": [
      "11300\n",
      "12000\n"
     ]
    }
   ],
   "source": [
    "print(np.max(manager.origin_csv['x']))\n",
    "print(np.max(manager.origin_csv['y']))\n"
   ]
  },
  {
   "cell_type": "code",
   "execution_count": 25,
   "metadata": {},
   "outputs": [
    {
     "name": "stdout",
     "output_type": "stream",
     "text": [
      "40\n"
     ]
    }
   ],
   "source": [
    "print(len(indicatorTester.negative_indicators))"
   ]
  },
  {
   "cell_type": "code",
   "execution_count": 26,
   "metadata": {},
   "outputs": [],
   "source": [
    "#rgb = comparatorTester.rgb_indicator_mask(indic_mask)\n"
   ]
  },
  {
   "cell_type": "code",
   "execution_count": 27,
   "metadata": {},
   "outputs": [],
   "source": [
    "#plt.figure(figsize=(6, 6), dpi=100)\n",
    "#plt.imshow(rgb)\n",
    "#plt.axis('off')  # Remove axes\n",
    "\n",
    "# Save the plot to a TIFF file\n",
    "#tiff.imwrite('/Users/brianbrogan/Desktop/KI24/figures/rgb_indicator_test3.tiff', rgb)\n",
    "\n",
    "# Optionally display the image using matplotlib (not saving with matplotlib)\n",
    "#plt.imshow(indic_mask, cmap='gray')\n",
    "#plt.imshow(rgb)\n",
    "#plt.axis('off')\n",
    "#plt.show()"
   ]
  },
  {
   "cell_type": "code",
   "execution_count": 31,
   "metadata": {},
   "outputs": [
    {
     "name": "stdout",
     "output_type": "stream",
     "text": [
      "[ -1   4   6   9  10  11  12  15  16  22  26  29  33  34  35  36  38  43\n",
      "  54  59  63  65  70  72  73  75  78  88  91  94 110 113 114 131 138 140\n",
      " 144 150 154 156 161 166 172 174 183 187 194 199 201 205 207 208 209 210\n",
      " 213 214 217 219 224 228 229 230 231 234 239 243 248 249 252 255 257 259\n",
      " 264 274 275 276 277]\n"
     ]
    }
   ],
   "source": [
    "print(np.unique(comparatorTester.markers[10]))"
   ]
  },
  {
   "cell_type": "code",
   "execution_count": 34,
   "metadata": {},
   "outputs": [
    {
     "name": "stdout",
     "output_type": "stream",
     "text": [
      "total pixels under target:  696\n",
      "true positive count:  14\n",
      "false negative count:  0\n"
     ]
    }
   ],
   "source": [
    "tot, tp, fn = comparatorTester.count_marker_and_indicators(new_indic_mask, \n",
    "                                                           comparatorTester.markers[10],\n",
    "                                                           target=10)\n",
    "print(\"total pixels under target: \", tot)\n",
    "print(\"true positive count: \", tp)\n",
    "print(\"false negative count: \", fn)"
   ]
  },
  {
   "cell_type": "code",
   "execution_count": null,
   "metadata": {},
   "outputs": [
    {
     "data": {
      "text/html": [
       "<div>\n",
       "<style scoped>\n",
       "    .dataframe tbody tr th:only-of-type {\n",
       "        vertical-align: middle;\n",
       "    }\n",
       "\n",
       "    .dataframe tbody tr th {\n",
       "        vertical-align: top;\n",
       "    }\n",
       "\n",
       "    .dataframe thead th {\n",
       "        text-align: right;\n",
       "    }\n",
       "</style>\n",
       "<table border=\"1\" class=\"dataframe\">\n",
       "  <thead>\n",
       "    <tr style=\"text-align: right;\">\n",
       "      <th></th>\n",
       "      <th>test_paramID</th>\n",
       "      <th>mark</th>\n",
       "      <th>total</th>\n",
       "      <th>n_true_pos</th>\n",
       "      <th>n_false_neg</th>\n",
       "    </tr>\n",
       "  </thead>\n",
       "  <tbody>\n",
       "    <tr>\n",
       "      <th>0</th>\n",
       "      <td>dt_percentile0</td>\n",
       "      <td>2</td>\n",
       "      <td>627</td>\n",
       "      <td>9</td>\n",
       "      <td>0</td>\n",
       "    </tr>\n",
       "    <tr>\n",
       "      <th>1</th>\n",
       "      <td>dt_percentile0</td>\n",
       "      <td>4</td>\n",
       "      <td>464</td>\n",
       "      <td>2</td>\n",
       "      <td>0</td>\n",
       "    </tr>\n",
       "    <tr>\n",
       "      <th>2</th>\n",
       "      <td>dt_percentile0</td>\n",
       "      <td>5</td>\n",
       "      <td>74</td>\n",
       "      <td>2</td>\n",
       "      <td>0</td>\n",
       "    </tr>\n",
       "    <tr>\n",
       "      <th>3</th>\n",
       "      <td>dt_percentile0</td>\n",
       "      <td>7</td>\n",
       "      <td>303</td>\n",
       "      <td>3</td>\n",
       "      <td>0</td>\n",
       "    </tr>\n",
       "    <tr>\n",
       "      <th>4</th>\n",
       "      <td>dt_percentile0</td>\n",
       "      <td>9</td>\n",
       "      <td>59</td>\n",
       "      <td>0</td>\n",
       "      <td>1</td>\n",
       "    </tr>\n",
       "    <tr>\n",
       "      <th>5</th>\n",
       "      <td>dt_percentile0</td>\n",
       "      <td>10</td>\n",
       "      <td>82</td>\n",
       "      <td>1</td>\n",
       "      <td>0</td>\n",
       "    </tr>\n",
       "    <tr>\n",
       "      <th>6</th>\n",
       "      <td>dt_percentile0</td>\n",
       "      <td>12</td>\n",
       "      <td>67</td>\n",
       "      <td>0</td>\n",
       "      <td>0</td>\n",
       "    </tr>\n",
       "    <tr>\n",
       "      <th>7</th>\n",
       "      <td>dt_percentile0</td>\n",
       "      <td>13</td>\n",
       "      <td>274</td>\n",
       "      <td>3</td>\n",
       "      <td>0</td>\n",
       "    </tr>\n",
       "    <tr>\n",
       "      <th>8</th>\n",
       "      <td>dt_percentile0</td>\n",
       "      <td>14</td>\n",
       "      <td>219</td>\n",
       "      <td>1</td>\n",
       "      <td>0</td>\n",
       "    </tr>\n",
       "    <tr>\n",
       "      <th>9</th>\n",
       "      <td>dt_percentile0</td>\n",
       "      <td>15</td>\n",
       "      <td>84</td>\n",
       "      <td>1</td>\n",
       "      <td>0</td>\n",
       "    </tr>\n",
       "    <tr>\n",
       "      <th>10</th>\n",
       "      <td>dt_percentile0</td>\n",
       "      <td>16</td>\n",
       "      <td>964</td>\n",
       "      <td>13</td>\n",
       "      <td>1</td>\n",
       "    </tr>\n",
       "    <tr>\n",
       "      <th>11</th>\n",
       "      <td>dt_percentile0</td>\n",
       "      <td>18</td>\n",
       "      <td>478</td>\n",
       "      <td>7</td>\n",
       "      <td>1</td>\n",
       "    </tr>\n",
       "    <tr>\n",
       "      <th>12</th>\n",
       "      <td>dt_percentile0</td>\n",
       "      <td>20</td>\n",
       "      <td>55</td>\n",
       "      <td>0</td>\n",
       "      <td>0</td>\n",
       "    </tr>\n",
       "    <tr>\n",
       "      <th>13</th>\n",
       "      <td>dt_percentile0</td>\n",
       "      <td>22</td>\n",
       "      <td>76</td>\n",
       "      <td>3</td>\n",
       "      <td>0</td>\n",
       "    </tr>\n",
       "    <tr>\n",
       "      <th>14</th>\n",
       "      <td>dt_percentile0</td>\n",
       "      <td>23</td>\n",
       "      <td>593</td>\n",
       "      <td>7</td>\n",
       "      <td>0</td>\n",
       "    </tr>\n",
       "    <tr>\n",
       "      <th>15</th>\n",
       "      <td>dt_percentile0</td>\n",
       "      <td>24</td>\n",
       "      <td>114</td>\n",
       "      <td>4</td>\n",
       "      <td>0</td>\n",
       "    </tr>\n",
       "    <tr>\n",
       "      <th>16</th>\n",
       "      <td>dt_percentile0</td>\n",
       "      <td>25</td>\n",
       "      <td>59</td>\n",
       "      <td>2</td>\n",
       "      <td>0</td>\n",
       "    </tr>\n",
       "    <tr>\n",
       "      <th>17</th>\n",
       "      <td>dt_percentile0</td>\n",
       "      <td>26</td>\n",
       "      <td>196</td>\n",
       "      <td>0</td>\n",
       "      <td>0</td>\n",
       "    </tr>\n",
       "    <tr>\n",
       "      <th>18</th>\n",
       "      <td>dt_percentile0</td>\n",
       "      <td>27</td>\n",
       "      <td>50</td>\n",
       "      <td>0</td>\n",
       "      <td>0</td>\n",
       "    </tr>\n",
       "    <tr>\n",
       "      <th>19</th>\n",
       "      <td>dt_percentile0</td>\n",
       "      <td>28</td>\n",
       "      <td>71</td>\n",
       "      <td>0</td>\n",
       "      <td>0</td>\n",
       "    </tr>\n",
       "  </tbody>\n",
       "</table>\n",
       "</div>"
      ],
      "text/plain": [
       "      test_paramID mark total n_true_pos n_false_neg\n",
       "0   dt_percentile0    2   627          9           0\n",
       "1   dt_percentile0    4   464          2           0\n",
       "2   dt_percentile0    5    74          2           0\n",
       "3   dt_percentile0    7   303          3           0\n",
       "4   dt_percentile0    9    59          0           1\n",
       "5   dt_percentile0   10    82          1           0\n",
       "6   dt_percentile0   12    67          0           0\n",
       "7   dt_percentile0   13   274          3           0\n",
       "8   dt_percentile0   14   219          1           0\n",
       "9   dt_percentile0   15    84          1           0\n",
       "10  dt_percentile0   16   964         13           1\n",
       "11  dt_percentile0   18   478          7           1\n",
       "12  dt_percentile0   20    55          0           0\n",
       "13  dt_percentile0   22    76          3           0\n",
       "14  dt_percentile0   23   593          7           0\n",
       "15  dt_percentile0   24   114          4           0\n",
       "16  dt_percentile0   25    59          2           0\n",
       "17  dt_percentile0   26   196          0           0\n",
       "18  dt_percentile0   27    50          0           0\n",
       "19  dt_percentile0   28    71          0           0"
      ]
     },
     "execution_count": 31,
     "metadata": {},
     "output_type": "execute_result"
    }
   ],
   "source": [
    "engine_res = comparatorTester.compare_engine(xrange= (0, 12001), \n",
    "                                             yrange = (0, 11301), \n",
    "                                             comparatorTester.indicator.indicators)\n",
    "engine_res.head(20)"
   ]
  },
  {
   "cell_type": "code",
   "execution_count": 32,
   "metadata": {},
   "outputs": [],
   "source": [
    "engine_res.to_csv(\"/Users/brianbrogan/Desktop/KI24/figures/compare_engine_test.csv\", index=False)"
   ]
  },
  {
   "cell_type": "code",
   "execution_count": 35,
   "metadata": {},
   "outputs": [
    {
     "name": "stdout",
     "output_type": "stream",
     "text": [
      "(34,)\n"
     ]
    },
    {
     "data": {
      "image/png": "[encoded data removed]",
      "text/plain": [
       "<Figure size 640x480 with 1 Axes>"
      ]
     },
     "metadata": {},
     "output_type": "display_data"
    }
   ],
   "source": [
    "print(comparatorTester.markers.shape)\n",
    "manager.view_marker_array(marker_array=comparatorTester.markers[10])"
   ]
  },
  {
   "cell_type": "code",
   "execution_count": 36,
   "metadata": {},
   "outputs": [
    {
     "name": "stdout",
     "output_type": "stream",
     "text": [
      "Collected Image from  /Users/brianbrogan/Desktop/KI24/ClusterImgGen2024/STERSEQ/output/02. Images/02.1. Raw prediction/1996-081_GFM_SS200000954BR_A2_tissue_cleaned_cortex_crop/clusters/cluster0_from_1996-081_GFM_SS200000954BR_A2_bin100_tissue_cleaned_mean_r10_cap1000.tif  with shape  (2500, 2250)\n"
     ]
    },
    {
     "data": {
      "text/plain": [
       "(-0.5, 2249.5, 2499.5, -0.5)"
      ]
     },
     "execution_count": 36,
     "metadata": {},
     "output_type": "execute_result"
    },
    {
     "data": {
      "image/png": "[encoded data removed]",
      "text/plain": [
       "<Figure size 640x480 with 1 Axes>"
      ]
     },
     "metadata": {},
     "output_type": "display_data"
    }
   ],
   "source": [
    "plt.imshow(test_segmenter.preprocess(), cmap='gray')\n",
    "plt.axis(\"off\")"
   ]
  },
  {
   "cell_type": "code",
   "execution_count": null,
   "metadata": {},
   "outputs": [],
   "source": []
  }
 ],
 "metadata": {
  "kernelspec": {
   "display_name": "vision-env",
   "language": "python",
   "name": "python3"
  },
  "language_info": {
   "codemirror_mode": {
    "name": "ipython",
    "version": 3
   },
   "file_extension": ".py",
   "mimetype": "text/x-python",
   "name": "python",
   "nbconvert_exporter": "python",
   "pygments_lexer": "ipython3",
   "version": "3.12.3"
  }
 },
 "nbformat": 4,
 "nbformat_minor": 2
}
