{
 "cells": [
  {
   "cell_type": "code",
   "execution_count": 56,
   "metadata": {},
   "outputs": [
    {
     "name": "stdout",
     "output_type": "stream",
     "text": [
      "The autoreload extension is already loaded. To reload it, use:\n",
      "  %reload_ext autoreload\n"
     ]
    }
   ],
   "source": [
    "import numpy as np\n",
    "import pandas as pd\n",
    "import cv2\n",
    "import matplotlib.pyplot as plt\n",
    "from comparator import Comparator, Indicator, visualize_contours\n",
    "from scipy.spatial import KDTree\n",
    "# 0=Neurons, 4=Astrocytes,5=Oligodendrocytes,11=Microglia,13=Endothelial #\n",
    "\n",
    "%load_ext autoreload\n",
    "%autoreload 2\n"
   ]
  },
  {
   "cell_type": "code",
   "execution_count": 3,
   "metadata": {},
   "outputs": [
    {
     "name": "stdout",
     "output_type": "stream",
     "text": [
      "(21441, 4)\n"
     ]
    },
    {
     "data": {
      "text/html": [
       "<div>\n",
       "<style scoped>\n",
       "    .dataframe tbody tr th:only-of-type {\n",
       "        vertical-align: middle;\n",
       "    }\n",
       "\n",
       "    .dataframe tbody tr th {\n",
       "        vertical-align: top;\n",
       "    }\n",
       "\n",
       "    .dataframe thead th {\n",
       "        text-align: right;\n",
       "    }\n",
       "</style>\n",
       "<table border=\"1\" class=\"dataframe\">\n",
       "  <thead>\n",
       "    <tr style=\"text-align: right;\">\n",
       "      <th></th>\n",
       "      <th>features</th>\n",
       "      <th>x</th>\n",
       "      <th>y</th>\n",
       "      <th>cluster</th>\n",
       "    </tr>\n",
       "  </thead>\n",
       "  <tbody>\n",
       "    <tr>\n",
       "      <th>0</th>\n",
       "      <td>WASH7P</td>\n",
       "      <td>0.058166</td>\n",
       "      <td>8.574180</td>\n",
       "      <td>0</td>\n",
       "    </tr>\n",
       "    <tr>\n",
       "      <th>1</th>\n",
       "      <td>WASH9P</td>\n",
       "      <td>10.845608</td>\n",
       "      <td>10.232767</td>\n",
       "      <td>2</td>\n",
       "    </tr>\n",
       "    <tr>\n",
       "      <th>2</th>\n",
       "      <td>MTND1P23</td>\n",
       "      <td>-0.641904</td>\n",
       "      <td>10.953246</td>\n",
       "      <td>0</td>\n",
       "    </tr>\n",
       "    <tr>\n",
       "      <th>3</th>\n",
       "      <td>MTND2P28</td>\n",
       "      <td>-4.345322</td>\n",
       "      <td>8.884488</td>\n",
       "      <td>0</td>\n",
       "    </tr>\n",
       "    <tr>\n",
       "      <th>4</th>\n",
       "      <td>MTCO1P12</td>\n",
       "      <td>-0.549818</td>\n",
       "      <td>10.905572</td>\n",
       "      <td>0</td>\n",
       "    </tr>\n",
       "  </tbody>\n",
       "</table>\n",
       "</div>"
      ],
      "text/plain": [
       "   features          x          y  cluster\n",
       "0    WASH7P   0.058166   8.574180        0\n",
       "1    WASH9P  10.845608  10.232767        2\n",
       "2  MTND1P23  -0.641904  10.953246        0\n",
       "3  MTND2P28  -4.345322   8.884488        0\n",
       "4  MTCO1P12  -0.549818  10.905572        0"
      ]
     },
     "execution_count": 3,
     "metadata": {},
     "output_type": "execute_result"
    }
   ],
   "source": [
    "clustann = pd.read_csv('/Users/brianbrogan/Desktop/KI24/ClusterImgGen2024/STERSEQ/output/01. Co-expression network/1996-081_GFM_SS200000954BR_A2_bin100_tissue_cleaned/Cluster_annotation.csv')\n",
    "print(clustann.shape)\n",
    "clustann.head()"
   ]
  },
  {
   "cell_type": "code",
   "execution_count": 26,
   "metadata": {},
   "outputs": [
    {
     "name": "stdout",
     "output_type": "stream",
     "text": [
      "(0, 4)\n"
     ]
    },
    {
     "data": {
      "text/html": [
       "<div>\n",
       "<style scoped>\n",
       "    .dataframe tbody tr th:only-of-type {\n",
       "        vertical-align: middle;\n",
       "    }\n",
       "\n",
       "    .dataframe tbody tr th {\n",
       "        vertical-align: top;\n",
       "    }\n",
       "\n",
       "    .dataframe thead th {\n",
       "        text-align: right;\n",
       "    }\n",
       "</style>\n",
       "<table border=\"1\" class=\"dataframe\">\n",
       "  <thead>\n",
       "    <tr style=\"text-align: right;\">\n",
       "      <th></th>\n",
       "      <th>features</th>\n",
       "      <th>x</th>\n",
       "      <th>y</th>\n",
       "      <th>cluster</th>\n",
       "    </tr>\n",
       "  </thead>\n",
       "  <tbody>\n",
       "  </tbody>\n",
       "</table>\n",
       "</div>"
      ],
      "text/plain": [
       "Empty DataFrame\n",
       "Columns: [features, x, y, cluster]\n",
       "Index: []"
      ]
     },
     "execution_count": 26,
     "metadata": {},
     "output_type": "execute_result"
    }
   ],
   "source": [
    "duplicates = clustann[clustann.duplicated(subset=['features'], keep=False)]\n",
    "print(duplicates.shape)\n",
    "duplicates.head()"
   ]
  },
  {
   "cell_type": "code",
   "execution_count": 27,
   "metadata": {},
   "outputs": [
    {
     "name": "stdout",
     "output_type": "stream",
     "text": [
      "[-1  0  1  2  3  4  5  6  7  8  9 10 11 12 13 14 15 16 17 18 19 20 21 22\n",
      " 23 24 25 26 27 28 29 30 31 32 33 34 35 36 37 38 39 40 41 42 43 44 45 46\n",
      " 47 48 49 50 51 52 53 54 55 56 57 58 59 60 61 62 63 64 65 66 67 68 69 70\n",
      " 71 72 73 74]\n"
     ]
    }
   ],
   "source": [
    "print(np.unique(clustann['cluster']))"
   ]
  },
  {
   "cell_type": "code",
   "execution_count": 38,
   "metadata": {},
   "outputs": [
    {
     "name": "stdout",
     "output_type": "stream",
     "text": [
      "(54, 4)\n"
     ]
    },
    {
     "data": {
      "text/html": [
       "<div>\n",
       "<style scoped>\n",
       "    .dataframe tbody tr th:only-of-type {\n",
       "        vertical-align: middle;\n",
       "    }\n",
       "\n",
       "    .dataframe tbody tr th {\n",
       "        vertical-align: top;\n",
       "    }\n",
       "\n",
       "    .dataframe thead th {\n",
       "        text-align: right;\n",
       "    }\n",
       "</style>\n",
       "<table border=\"1\" class=\"dataframe\">\n",
       "  <thead>\n",
       "    <tr style=\"text-align: right;\">\n",
       "      <th></th>\n",
       "      <th>features</th>\n",
       "      <th>x</th>\n",
       "      <th>y</th>\n",
       "      <th>cluster</th>\n",
       "    </tr>\n",
       "  </thead>\n",
       "  <tbody>\n",
       "    <tr>\n",
       "      <th>35</th>\n",
       "      <td>MXRA8</td>\n",
       "      <td>18.692465</td>\n",
       "      <td>10.252989</td>\n",
       "      <td>4</td>\n",
       "    </tr>\n",
       "    <tr>\n",
       "      <th>236</th>\n",
       "      <td>ESPNP</td>\n",
       "      <td>18.730371</td>\n",
       "      <td>10.231768</td>\n",
       "      <td>4</td>\n",
       "    </tr>\n",
       "    <tr>\n",
       "      <th>253</th>\n",
       "      <td>TAS1R2</td>\n",
       "      <td>18.150196</td>\n",
       "      <td>10.561714</td>\n",
       "      <td>4</td>\n",
       "    </tr>\n",
       "    <tr>\n",
       "      <th>1350</th>\n",
       "      <td>S100A2</td>\n",
       "      <td>18.511414</td>\n",
       "      <td>10.324617</td>\n",
       "      <td>4</td>\n",
       "    </tr>\n",
       "    <tr>\n",
       "      <th>1431</th>\n",
       "      <td>RAB25</td>\n",
       "      <td>18.462917</td>\n",
       "      <td>10.554472</td>\n",
       "      <td>4</td>\n",
       "    </tr>\n",
       "  </tbody>\n",
       "</table>\n",
       "</div>"
      ],
      "text/plain": [
       "     features          x          y  cluster\n",
       "35      MXRA8  18.692465  10.252989        4\n",
       "236     ESPNP  18.730371  10.231768        4\n",
       "253    TAS1R2  18.150196  10.561714        4\n",
       "1350   S100A2  18.511414  10.324617        4\n",
       "1431    RAB25  18.462917  10.554472        4"
      ]
     },
     "execution_count": 38,
     "metadata": {},
     "output_type": "execute_result"
    }
   ],
   "source": [
    "clust_0 = clustann.loc[clustann['cluster']==4, :]\n",
    "print(clust_0.shape)\n",
    "clust_0.head()\n"
   ]
  },
  {
   "cell_type": "code",
   "execution_count": 39,
   "metadata": {},
   "outputs": [
    {
     "name": "stdout",
     "output_type": "stream",
     "text": [
      "(54,)\n"
     ]
    }
   ],
   "source": [
    "clust_0_genes = np.unique(clust_0['features'])\n",
    "print(clust_0_genes.shape)"
   ]
  },
  {
   "cell_type": "code",
   "execution_count": 40,
   "metadata": {},
   "outputs": [],
   "source": [
    "clust_0_gene_set = set(clust_0_genes)"
   ]
  },
  {
   "cell_type": "code",
   "execution_count": 41,
   "metadata": {},
   "outputs": [],
   "source": [
    "sterseq_df = pd.read_csv('/Users/brianbrogan/Desktop/KI24/ClusterImgGen2024/STERSEQ/input/1996-081_GFM_SS200000954BR_A2_tissue_cleaned_cortex_crop.csv')"
   ]
  },
  {
   "cell_type": "code",
   "execution_count": 42,
   "metadata": {},
   "outputs": [
    {
     "name": "stdout",
     "output_type": "stream",
     "text": [
      "(9084839, 8)\n"
     ]
    },
    {
     "data": {
      "text/html": [
       "<div>\n",
       "<style scoped>\n",
       "    .dataframe tbody tr th:only-of-type {\n",
       "        vertical-align: middle;\n",
       "    }\n",
       "\n",
       "    .dataframe tbody tr th {\n",
       "        vertical-align: top;\n",
       "    }\n",
       "\n",
       "    .dataframe thead th {\n",
       "        text-align: right;\n",
       "    }\n",
       "</style>\n",
       "<table border=\"1\" class=\"dataframe\">\n",
       "  <thead>\n",
       "    <tr style=\"text-align: right;\">\n",
       "      <th></th>\n",
       "      <th>Unnamed: 0</th>\n",
       "      <th>geneID</th>\n",
       "      <th>x</th>\n",
       "      <th>y</th>\n",
       "      <th>MIDCount</th>\n",
       "      <th>ExonCount</th>\n",
       "      <th>IntronCount</th>\n",
       "      <th>bin1_ID</th>\n",
       "    </tr>\n",
       "  </thead>\n",
       "  <tbody>\n",
       "    <tr>\n",
       "      <th>0</th>\n",
       "      <td>1</td>\n",
       "      <td>WASH7P</td>\n",
       "      <td>4209</td>\n",
       "      <td>8106</td>\n",
       "      <td>1</td>\n",
       "      <td>0</td>\n",
       "      <td>1</td>\n",
       "      <td>159121569.0</td>\n",
       "    </tr>\n",
       "    <tr>\n",
       "      <th>1</th>\n",
       "      <td>2</td>\n",
       "      <td>WASH7P</td>\n",
       "      <td>8313</td>\n",
       "      <td>6307</td>\n",
       "      <td>1</td>\n",
       "      <td>0</td>\n",
       "      <td>1</td>\n",
       "      <td>123807705.0</td>\n",
       "    </tr>\n",
       "    <tr>\n",
       "      <th>2</th>\n",
       "      <td>3</td>\n",
       "      <td>WASH7P</td>\n",
       "      <td>6394</td>\n",
       "      <td>8031</td>\n",
       "      <td>1</td>\n",
       "      <td>0</td>\n",
       "      <td>1</td>\n",
       "      <td>157651354.0</td>\n",
       "    </tr>\n",
       "    <tr>\n",
       "      <th>3</th>\n",
       "      <td>4</td>\n",
       "      <td>WASH7P</td>\n",
       "      <td>7620</td>\n",
       "      <td>10189</td>\n",
       "      <td>3</td>\n",
       "      <td>0</td>\n",
       "      <td>3</td>\n",
       "      <td>200018436.0</td>\n",
       "    </tr>\n",
       "    <tr>\n",
       "      <th>4</th>\n",
       "      <td>5</td>\n",
       "      <td>WASH7P</td>\n",
       "      <td>10163</td>\n",
       "      <td>8238</td>\n",
       "      <td>1</td>\n",
       "      <td>0</td>\n",
       "      <td>1</td>\n",
       "      <td>161718947.0</td>\n",
       "    </tr>\n",
       "  </tbody>\n",
       "</table>\n",
       "</div>"
      ],
      "text/plain": [
       "   Unnamed: 0  geneID      x      y  MIDCount  ExonCount  IntronCount  \\\n",
       "0           1  WASH7P   4209   8106         1          0            1   \n",
       "1           2  WASH7P   8313   6307         1          0            1   \n",
       "2           3  WASH7P   6394   8031         1          0            1   \n",
       "3           4  WASH7P   7620  10189         3          0            3   \n",
       "4           5  WASH7P  10163   8238         1          0            1   \n",
       "\n",
       "       bin1_ID  \n",
       "0  159121569.0  \n",
       "1  123807705.0  \n",
       "2  157651354.0  \n",
       "3  200018436.0  \n",
       "4  161718947.0  "
      ]
     },
     "execution_count": 42,
     "metadata": {},
     "output_type": "execute_result"
    }
   ],
   "source": [
    "print(sterseq_df.shape)\n",
    "sterseq_df.head()"
   ]
  },
  {
   "cell_type": "code",
   "execution_count": 43,
   "metadata": {},
   "outputs": [],
   "source": [
    "clust_0_sterseq_df = sterseq_df[sterseq_df['geneID'].isin(clust_0_gene_set)]"
   ]
  },
  {
   "cell_type": "code",
   "execution_count": 44,
   "metadata": {},
   "outputs": [
    {
     "name": "stdout",
     "output_type": "stream",
     "text": [
      "(5682, 8)\n"
     ]
    },
    {
     "data": {
      "text/html": [
       "<div>\n",
       "<style scoped>\n",
       "    .dataframe tbody tr th:only-of-type {\n",
       "        vertical-align: middle;\n",
       "    }\n",
       "\n",
       "    .dataframe tbody tr th {\n",
       "        vertical-align: top;\n",
       "    }\n",
       "\n",
       "    .dataframe thead th {\n",
       "        text-align: right;\n",
       "    }\n",
       "</style>\n",
       "<table border=\"1\" class=\"dataframe\">\n",
       "  <thead>\n",
       "    <tr style=\"text-align: right;\">\n",
       "      <th></th>\n",
       "      <th>Unnamed: 0</th>\n",
       "      <th>geneID</th>\n",
       "      <th>x</th>\n",
       "      <th>y</th>\n",
       "      <th>MIDCount</th>\n",
       "      <th>ExonCount</th>\n",
       "      <th>IntronCount</th>\n",
       "      <th>bin1_ID</th>\n",
       "    </tr>\n",
       "  </thead>\n",
       "  <tbody>\n",
       "    <tr>\n",
       "      <th>35433</th>\n",
       "      <td>35434</td>\n",
       "      <td>MXRA8</td>\n",
       "      <td>9143</td>\n",
       "      <td>6520</td>\n",
       "      <td>1</td>\n",
       "      <td>0</td>\n",
       "      <td>1</td>\n",
       "      <td>127990151.0</td>\n",
       "    </tr>\n",
       "    <tr>\n",
       "      <th>35434</th>\n",
       "      <td>35435</td>\n",
       "      <td>MXRA8</td>\n",
       "      <td>5622</td>\n",
       "      <td>9367</td>\n",
       "      <td>1</td>\n",
       "      <td>1</td>\n",
       "      <td>0</td>\n",
       "      <td>183878934.0</td>\n",
       "    </tr>\n",
       "    <tr>\n",
       "      <th>35435</th>\n",
       "      <td>35436</td>\n",
       "      <td>MXRA8</td>\n",
       "      <td>9205</td>\n",
       "      <td>9114</td>\n",
       "      <td>1</td>\n",
       "      <td>1</td>\n",
       "      <td>0</td>\n",
       "      <td>178915621.0</td>\n",
       "    </tr>\n",
       "    <tr>\n",
       "      <th>35436</th>\n",
       "      <td>35437</td>\n",
       "      <td>MXRA8</td>\n",
       "      <td>7778</td>\n",
       "      <td>7028</td>\n",
       "      <td>1</td>\n",
       "      <td>1</td>\n",
       "      <td>0</td>\n",
       "      <td>137961842.0</td>\n",
       "    </tr>\n",
       "    <tr>\n",
       "      <th>35437</th>\n",
       "      <td>35438</td>\n",
       "      <td>MXRA8</td>\n",
       "      <td>5364</td>\n",
       "      <td>11161</td>\n",
       "      <td>1</td>\n",
       "      <td>1</td>\n",
       "      <td>0</td>\n",
       "      <td>219098484.0</td>\n",
       "    </tr>\n",
       "  </tbody>\n",
       "</table>\n",
       "</div>"
      ],
      "text/plain": [
       "       Unnamed: 0 geneID     x      y  MIDCount  ExonCount  IntronCount  \\\n",
       "35433       35434  MXRA8  9143   6520         1          0            1   \n",
       "35434       35435  MXRA8  5622   9367         1          1            0   \n",
       "35435       35436  MXRA8  9205   9114         1          1            0   \n",
       "35436       35437  MXRA8  7778   7028         1          1            0   \n",
       "35437       35438  MXRA8  5364  11161         1          1            0   \n",
       "\n",
       "           bin1_ID  \n",
       "35433  127990151.0  \n",
       "35434  183878934.0  \n",
       "35435  178915621.0  \n",
       "35436  137961842.0  \n",
       "35437  219098484.0  "
      ]
     },
     "execution_count": 44,
     "metadata": {},
     "output_type": "execute_result"
    }
   ],
   "source": [
    "print(clust_0_sterseq_df.shape)\n",
    "clust_0_sterseq_df.head()"
   ]
  },
  {
   "cell_type": "code",
   "execution_count": 45,
   "metadata": {},
   "outputs": [],
   "source": [
    "indicators = clust_0_sterseq_df['geneID'].value_counts()\n",
    "\n"
   ]
  },
  {
   "cell_type": "code",
   "execution_count": 46,
   "metadata": {},
   "outputs": [
    {
     "name": "stdout",
     "output_type": "stream",
     "text": [
      "geneID\n",
      "TCF12          754\n",
      "STAT3          654\n",
      "NOS1           311\n",
      "ZSWIM7         302\n",
      "DHCR7          279\n",
      "ZNF44          253\n",
      "AATF           251\n",
      "KATNA1         229\n",
      "NFKBIB         208\n",
      "ANO1           183\n",
      "CFAP20DC-DT    170\n",
      "MCAM           150\n",
      "TPTE2P6        123\n",
      "PLS1           112\n",
      "ENOSF1         106\n",
      "CCNJL          102\n",
      "PIWIL2          99\n",
      "MXRA8           97\n",
      "SCN10A          86\n",
      "XAF1            85\n",
      "ZNF440          85\n",
      "MCM9            82\n",
      "MOCOS           81\n",
      "MUC16           81\n",
      "TPTE2P5         66\n",
      "Name: count, dtype: int64\n"
     ]
    }
   ],
   "source": [
    "# Display the top N most common genes (e.g., top 10)\n",
    "top_n_common_genes = indicators.head(25)\n",
    "print(top_n_common_genes)\n",
    "#print(indicators[:20])"
   ]
  },
  {
   "cell_type": "code",
   "execution_count": 35,
   "metadata": {},
   "outputs": [
    {
     "ename": "KeyError",
     "evalue": "'cluster'",
     "output_type": "error",
     "traceback": [
      "\u001b[0;31m---------------------------------------------------------------------------\u001b[0m",
      "\u001b[0;31mKeyError\u001b[0m                                  Traceback (most recent call last)",
      "Cell \u001b[0;32mIn[35], line 1\u001b[0m\n\u001b[0;32m----> 1\u001b[0m gene_cluster_counts \u001b[38;5;241m=\u001b[39m sterseq_df\u001b[38;5;241m.\u001b[39mgroupby([\u001b[38;5;124m'\u001b[39m\u001b[38;5;124mcluster\u001b[39m\u001b[38;5;124m'\u001b[39m, \u001b[38;5;124m'\u001b[39m\u001b[38;5;124mgeneID\u001b[39m\u001b[38;5;124m'\u001b[39m])\u001b[38;5;241m.\u001b[39msize()\u001b[38;5;241m.\u001b[39mreset_index(name\u001b[38;5;241m=\u001b[39m\u001b[38;5;124m'\u001b[39m\u001b[38;5;124mcount\u001b[39m\u001b[38;5;124m'\u001b[39m)\n\u001b[1;32m      2\u001b[0m gene_cluster_counts\u001b[38;5;241m.\u001b[39mhead()\n",
      "File \u001b[0;32m~/miniconda3/envs/vision-env/lib/python3.12/site-packages/pandas/core/frame.py:9183\u001b[0m, in \u001b[0;36mDataFrame.groupby\u001b[0;34m(self, by, axis, level, as_index, sort, group_keys, observed, dropna)\u001b[0m\n\u001b[1;32m   9180\u001b[0m \u001b[38;5;28;01mif\u001b[39;00m level \u001b[38;5;129;01mis\u001b[39;00m \u001b[38;5;28;01mNone\u001b[39;00m \u001b[38;5;129;01mand\u001b[39;00m by \u001b[38;5;129;01mis\u001b[39;00m \u001b[38;5;28;01mNone\u001b[39;00m:\n\u001b[1;32m   9181\u001b[0m     \u001b[38;5;28;01mraise\u001b[39;00m \u001b[38;5;167;01mTypeError\u001b[39;00m(\u001b[38;5;124m\"\u001b[39m\u001b[38;5;124mYou have to supply one of \u001b[39m\u001b[38;5;124m'\u001b[39m\u001b[38;5;124mby\u001b[39m\u001b[38;5;124m'\u001b[39m\u001b[38;5;124m and \u001b[39m\u001b[38;5;124m'\u001b[39m\u001b[38;5;124mlevel\u001b[39m\u001b[38;5;124m'\u001b[39m\u001b[38;5;124m\"\u001b[39m)\n\u001b[0;32m-> 9183\u001b[0m \u001b[38;5;28;01mreturn\u001b[39;00m DataFrameGroupBy(\n\u001b[1;32m   9184\u001b[0m     obj\u001b[38;5;241m=\u001b[39m\u001b[38;5;28mself\u001b[39m,\n\u001b[1;32m   9185\u001b[0m     keys\u001b[38;5;241m=\u001b[39mby,\n\u001b[1;32m   9186\u001b[0m     axis\u001b[38;5;241m=\u001b[39maxis,\n\u001b[1;32m   9187\u001b[0m     level\u001b[38;5;241m=\u001b[39mlevel,\n\u001b[1;32m   9188\u001b[0m     as_index\u001b[38;5;241m=\u001b[39mas_index,\n\u001b[1;32m   9189\u001b[0m     sort\u001b[38;5;241m=\u001b[39msort,\n\u001b[1;32m   9190\u001b[0m     group_keys\u001b[38;5;241m=\u001b[39mgroup_keys,\n\u001b[1;32m   9191\u001b[0m     observed\u001b[38;5;241m=\u001b[39mobserved,\n\u001b[1;32m   9192\u001b[0m     dropna\u001b[38;5;241m=\u001b[39mdropna,\n\u001b[1;32m   9193\u001b[0m )\n",
      "File \u001b[0;32m~/miniconda3/envs/vision-env/lib/python3.12/site-packages/pandas/core/groupby/groupby.py:1329\u001b[0m, in \u001b[0;36mGroupBy.__init__\u001b[0;34m(self, obj, keys, axis, level, grouper, exclusions, selection, as_index, sort, group_keys, observed, dropna)\u001b[0m\n\u001b[1;32m   1326\u001b[0m \u001b[38;5;28mself\u001b[39m\u001b[38;5;241m.\u001b[39mdropna \u001b[38;5;241m=\u001b[39m dropna\n\u001b[1;32m   1328\u001b[0m \u001b[38;5;28;01mif\u001b[39;00m grouper \u001b[38;5;129;01mis\u001b[39;00m \u001b[38;5;28;01mNone\u001b[39;00m:\n\u001b[0;32m-> 1329\u001b[0m     grouper, exclusions, obj \u001b[38;5;241m=\u001b[39m get_grouper(\n\u001b[1;32m   1330\u001b[0m         obj,\n\u001b[1;32m   1331\u001b[0m         keys,\n\u001b[1;32m   1332\u001b[0m         axis\u001b[38;5;241m=\u001b[39maxis,\n\u001b[1;32m   1333\u001b[0m         level\u001b[38;5;241m=\u001b[39mlevel,\n\u001b[1;32m   1334\u001b[0m         sort\u001b[38;5;241m=\u001b[39msort,\n\u001b[1;32m   1335\u001b[0m         observed\u001b[38;5;241m=\u001b[39m\u001b[38;5;28;01mFalse\u001b[39;00m \u001b[38;5;28;01mif\u001b[39;00m observed \u001b[38;5;129;01mis\u001b[39;00m lib\u001b[38;5;241m.\u001b[39mno_default \u001b[38;5;28;01melse\u001b[39;00m observed,\n\u001b[1;32m   1336\u001b[0m         dropna\u001b[38;5;241m=\u001b[39m\u001b[38;5;28mself\u001b[39m\u001b[38;5;241m.\u001b[39mdropna,\n\u001b[1;32m   1337\u001b[0m     )\n\u001b[1;32m   1339\u001b[0m \u001b[38;5;28;01mif\u001b[39;00m observed \u001b[38;5;129;01mis\u001b[39;00m lib\u001b[38;5;241m.\u001b[39mno_default:\n\u001b[1;32m   1340\u001b[0m     \u001b[38;5;28;01mif\u001b[39;00m \u001b[38;5;28many\u001b[39m(ping\u001b[38;5;241m.\u001b[39m_passed_categorical \u001b[38;5;28;01mfor\u001b[39;00m ping \u001b[38;5;129;01min\u001b[39;00m grouper\u001b[38;5;241m.\u001b[39mgroupings):\n",
      "File \u001b[0;32m~/miniconda3/envs/vision-env/lib/python3.12/site-packages/pandas/core/groupby/grouper.py:1043\u001b[0m, in \u001b[0;36mget_grouper\u001b[0;34m(obj, key, axis, level, sort, observed, validate, dropna)\u001b[0m\n\u001b[1;32m   1041\u001b[0m         in_axis, level, gpr \u001b[38;5;241m=\u001b[39m \u001b[38;5;28;01mFalse\u001b[39;00m, gpr, \u001b[38;5;28;01mNone\u001b[39;00m\n\u001b[1;32m   1042\u001b[0m     \u001b[38;5;28;01melse\u001b[39;00m:\n\u001b[0;32m-> 1043\u001b[0m         \u001b[38;5;28;01mraise\u001b[39;00m \u001b[38;5;167;01mKeyError\u001b[39;00m(gpr)\n\u001b[1;32m   1044\u001b[0m \u001b[38;5;28;01melif\u001b[39;00m \u001b[38;5;28misinstance\u001b[39m(gpr, Grouper) \u001b[38;5;129;01mand\u001b[39;00m gpr\u001b[38;5;241m.\u001b[39mkey \u001b[38;5;129;01mis\u001b[39;00m \u001b[38;5;129;01mnot\u001b[39;00m \u001b[38;5;28;01mNone\u001b[39;00m:\n\u001b[1;32m   1045\u001b[0m     \u001b[38;5;66;03m# Add key to exclusions\u001b[39;00m\n\u001b[1;32m   1046\u001b[0m     exclusions\u001b[38;5;241m.\u001b[39madd(gpr\u001b[38;5;241m.\u001b[39mkey)\n",
      "\u001b[0;31mKeyError\u001b[0m: 'cluster'"
     ]
    }
   ],
   "source": [
    "gene_cluster_counts = sterseq_df.groupby(['cluster', 'geneID']).size().reset_index(name='count')\n",
    "gene_cluster_counts.head()"
   ]
  },
  {
   "cell_type": "code",
   "execution_count": null,
   "metadata": {},
   "outputs": [],
   "source": [
    "def find_gene_set(df, clust_id):\n",
    "    clust = df.loc[df['cluster']==clust_id, :]\n",
    "    clust_genes_set = set(np.unique(clust['features']))\n",
    "    return clust_genes_set\n",
    "\n",
    "def create_cluster_df(origin, clust_id):\n",
    "    gene_set = find_gene_set(origin, clust_id)\n",
    "    cluster_df = origin[origin['geneID'].isin(gene_set)]\n",
    "    return cluster_df\n",
    "\n",
    "def find_n_indicators(cluster_df, minimum_count):\n",
    "    indicators = cluster_df['geneID'].value_counts()\n",
    "    indicators = indicators.loc[indicators['count']>= minimum_count]\n",
    "    return indicators"
   ]
  },
  {
   "cell_type": "code",
   "execution_count": 2,
   "metadata": {},
   "outputs": [
    {
     "name": "stderr",
     "output_type": "stream",
     "text": [
      "Finding positive indicators: 100%|██████████| 3/3 [00:00<00:00,  5.42step/s]\n",
      "Finding negative indicators: 100%|██████████| 4/4 [00:00<00:00,  6.28cluster/s]\n"
     ]
    }
   ],
   "source": [
    "indicator = Indicator(\n",
    "    origin_csv_fname='/Users/brianbrogan/Desktop/KI24/ClusterImgGen2024/STERSEQ/input/1996-081_GFM_SS200000954BR_A2_tissue_cleaned_cortex_crop.csv',\n",
    "    annotation_fname='/Users/brianbrogan/Desktop/KI24/ClusterImgGen2024/STERSEQ/output/01. Co-expression network/1996-081_GFM_SS200000954BR_A2_bin100_tissue_cleaned/Cluster_annotation.csv'\n",
    ")\n",
    "\n",
    "comparator = Comparator(\n",
    "    indicator=indicator\n",
    ")\n"
   ]
  },
  {
   "cell_type": "code",
   "execution_count": 3,
   "metadata": {},
   "outputs": [
    {
     "data": {
      "text/plain": [
       "geneID\n",
       "MT-RNR2    182774\n",
       "MT-CO2      42167\n",
       "MT-TV       39477\n",
       "MT-CO3      39279\n",
       "MT-ND1      34312\n",
       "Name: count, dtype: int64"
      ]
     },
     "execution_count": 3,
     "metadata": {},
     "output_type": "execute_result"
    }
   ],
   "source": [
    "indicator.positive_indicators.head()\n"
   ]
  },
  {
   "cell_type": "code",
   "execution_count": 4,
   "metadata": {},
   "outputs": [
    {
     "data": {
      "image/png": "[encoded data removed]",
      "text/plain": [
       "<Figure size 640x480 with 1 Axes>"
      ]
     },
     "metadata": {},
     "output_type": "display_data"
    }
   ],
   "source": [
    "test_contours = comparator.contours.loc[4, 'contour_arrs']\n",
    "\n",
    "visualize_contours(test_contours)\n",
    "#comparator.run_single_comparison()"
   ]
  },
  {
   "cell_type": "code",
   "execution_count": 50,
   "metadata": {},
   "outputs": [
    {
     "name": "stdout",
     "output_type": "stream",
     "text": [
      "<class 'numpy.ndarray'>\n",
      "(39, 1, 2)\n",
      "(81, 1, 2)\n",
      "465\n",
      "[[97, 144], [98, 143], [98, 144], [98, 145], [99, 142], [99, 143], [99, 144], [99, 145], [99, 146], [100, 142], [100, 143], [100, 144], [100, 145], [100, 146], [100, 147], [100, 150], [100, 151], [100, 152], [100, 153], [100, 154], [100, 155], [100, 156], [100, 157], [100, 158], [100, 159], [100, 160], [100, 161], [100, 162], [101, 142], [101, 143], [101, 144], [101, 145], [101, 146], [101, 147], [101, 148], [101, 149], [101, 150], [101, 151], [101, 152], [101, 153], [101, 154], [101, 155], [101, 156], [101, 157], [101, 158], [101, 159], [101, 160], [101, 161], [101, 162], [101, 163], [102, 142], [102, 143], [102, 144], [102, 145], [102, 146], [102, 147], [102, 148], [102, 149], [102, 150], [102, 151], [102, 152], [102, 153], [102, 154], [102, 155], [102, 156], [102, 157], [102, 158], [102, 159], [102, 160], [102, 161], [102, 162], [102, 163], [102, 164], [103, 142], [103, 143], [103, 144], [103, 145], [103, 146], [103, 147], [103, 148], [103, 149], [103, 150], [103, 151], [103, 152], [103, 153], [103, 154], [103, 155], [103, 156], [103, 157], [103, 158], [103, 159], [103, 160], [103, 161], [103, 162], [103, 163], [103, 164], [103, 165], [104, 141], [104, 142], [104, 143], [104, 144], [104, 145], [104, 146], [104, 147], [104, 148], [104, 149], [104, 150], [104, 151], [104, 152], [104, 153], [104, 154], [104, 155], [104, 156], [104, 157], [104, 158], [104, 159], [104, 160], [104, 161], [104, 162], [104, 163], [104, 164], [104, 165], [105, 140], [105, 141], [105, 142], [105, 143], [105, 144], [105, 145], [105, 146], [105, 147], [105, 148], [105, 149], [105, 150], [105, 151], [105, 152], [105, 153], [105, 154], [105, 155], [105, 156], [105, 157], [105, 158], [105, 159], [105, 160], [105, 161], [105, 162], [105, 163], [105, 164], [105, 165], [105, 166], [106, 140], [106, 141], [106, 142], [106, 143], [106, 144], [106, 145], [106, 146], [106, 147], [106, 148], [106, 149], [106, 150], [106, 151], [106, 152], [106, 153], [106, 154], [106, 155], [106, 156], [106, 157], [106, 158], [106, 159], [106, 160], [106, 161], [106, 162], [106, 163], [106, 164], [106, 165], [106, 166], [107, 139], [107, 140], [107, 141], [107, 142], [107, 143], [107, 144], [107, 145], [107, 146], [107, 147], [107, 148], [107, 149], [107, 150], [107, 151], [107, 152], [107, 153], [107, 154], [107, 155], [107, 156], [107, 157], [107, 158], [107, 159], [107, 160], [107, 161], [107, 162], [107, 163], [107, 164], [107, 165], [107, 166], [108, 139], [108, 140], [108, 141], [108, 142], [108, 143], [108, 144], [108, 145], [108, 146], [108, 147], [108, 148], [108, 149], [108, 150], [108, 151], [108, 152], [108, 153], [108, 154], [108, 155], [108, 156], [108, 157], [108, 158], [108, 159], [108, 160], [108, 161], [108, 162], [108, 163], [108, 164], [108, 165], [108, 166], [109, 139], [109, 140], [109, 141], [109, 142], [109, 143], [109, 144], [109, 145], [109, 146], [109, 147], [109, 148], [109, 149], [109, 150], [109, 151], [109, 152], [109, 153], [109, 154], [109, 155], [109, 156], [109, 157], [109, 158], [109, 159], [109, 160], [109, 161], [109, 162], [109, 163], [109, 164], [109, 165], [109, 166], [110, 139], [110, 140], [110, 141], [110, 142], [110, 143], [110, 144], [110, 145], [110, 146], [110, 147], [110, 148], [110, 149], [110, 150], [110, 151], [110, 152], [110, 153], [110, 154], [110, 155], [110, 156], [110, 157], [110, 158], [110, 159], [110, 160], [110, 161], [110, 162], [110, 163], [110, 164], [110, 165], [111, 139], [111, 140], [111, 141], [111, 142], [111, 143], [111, 144], [111, 145], [111, 146], [111, 147], [111, 148], [111, 149], [111, 150], [111, 151], [111, 152], [111, 153], [111, 154], [111, 155], [111, 156], [111, 157], [111, 158], [111, 159], [111, 160], [111, 161], [111, 162], [111, 163], [111, 164], [111, 165], [112, 139], [112, 140], [112, 141], [112, 142], [112, 143], [112, 144], [112, 145], [112, 146], [112, 147], [112, 148], [112, 149], [112, 150], [112, 151], [112, 152], [112, 153], [112, 154], [112, 155], [112, 156], [112, 157], [112, 158], [112, 159], [112, 160], [112, 161], [112, 162], [112, 163], [112, 164], [113, 140], [113, 141], [113, 142], [113, 143], [113, 144], [113, 145], [113, 146], [113, 147], [113, 148], [113, 149], [113, 150], [113, 151], [113, 152], [113, 153], [113, 157], [113, 158], [113, 159], [113, 160], [113, 161], [113, 162], [113, 163], [114, 140], [114, 141], [114, 142], [114, 143], [114, 144], [114, 145], [114, 146], [114, 147], [114, 148], [114, 149], [114, 150], [114, 151], [114, 152], [114, 159], [114, 160], [114, 161], [114, 162], [115, 141], [115, 142], [115, 143], [115, 144], [115, 145], [115, 146], [115, 147], [115, 148], [115, 149], [115, 150], [115, 151], [115, 152], [115, 153], [116, 141], [116, 142], [116, 143], [116, 144], [116, 145], [116, 146], [116, 147], [116, 148], [116, 149], [116, 150], [116, 151], [116, 152], [116, 153], [117, 142], [117, 143], [117, 144], [117, 145], [117, 146], [117, 147], [117, 148], [117, 149], [117, 150], [117, 151], [117, 152], [117, 153], [118, 142], [118, 143], [118, 144], [118, 145], [118, 146], [118, 147], [118, 148], [118, 149], [118, 150], [118, 151], [118, 152], [118, 153], [119, 142], [119, 143], [119, 144], [119, 145], [119, 146], [119, 147], [119, 148], [119, 149], [119, 150], [119, 151], [119, 152], [120, 143], [120, 144], [120, 145], [120, 146], [120, 147], [120, 148], [120, 149], [120, 150], [120, 151], [120, 152], [121, 143], [121, 144], [121, 145], [121, 146], [121, 147], [121, 148], [121, 149], [121, 150], [121, 151], [122, 144], [122, 145], [122, 146], [122, 147], [122, 148], [122, 149], [122, 150]]\n"
     ]
    }
   ],
   "source": [
    "def get_points_in_contour(contour):\n",
    "    # Flatten the contour to (n, 2)\n",
    "    contour = contour.reshape((-1, 2))\n",
    "\n",
    "    # Find the bounding box of the contour\n",
    "    min_x, min_y = np.min(contour, axis=0)\n",
    "    max_x, max_y = np.max(contour, axis=0)\n",
    "\n",
    "    # Create a grid of points within the bounding box\n",
    "    grid_points = [(x, y) for x in range(min_x, max_x+1) for y in range(min_y, max_y+1)]\n",
    "\n",
    "    # Check which points are inside the contour using pointPolygonTest\n",
    "    inside_points = [list(pt) for pt in grid_points if cv2.pointPolygonTest(contour, pt, False) >= 0]\n",
    "\n",
    "    return inside_points\n",
    "\n",
    "print(type(test_contours[4]))\n",
    "print(test_contours[4].shape)\n",
    "\n",
    "sing_contour = test_contours[20]#.reshape((-1, 2))\n",
    "print(sing_contour.shape)\n",
    "\n",
    "points_inside = get_points_in_contour(sing_contour)\n",
    "print(len(points_inside))\n",
    "print(points_inside)"
   ]
  },
  {
   "cell_type": "code",
   "execution_count": 55,
   "metadata": {},
   "outputs": [
    {
     "name": "stdout",
     "output_type": "stream",
     "text": [
      "182774\n",
      "465\n",
      "0\n"
     ]
    }
   ],
   "source": [
    "\n",
    "comp_points = comparator.get_contour_points(sing_contour)\n",
    "count = comparator.run_single_comparison(sing_contour, 'MT-RNR2')\n",
    "print(len(comp_points))\n",
    "print(count)"
   ]
  },
  {
   "cell_type": "code",
   "execution_count": 43,
   "metadata": {},
   "outputs": [],
   "source": [
    "def view_contour(contour):\n",
    "    # Flatten the contour and extract x, y coordinates\n",
    "    x_vals, y_vals = zip(*[point[0] for point in contour])\n",
    "    min_x, max_x = min(x_vals), max(x_vals)\n",
    "    min_y, max_y = min(y_vals), max(y_vals)\n",
    "    margin = 10\n",
    "    min_x, max_x = min_x - margin, max_x + margin\n",
    "    min_y, max_y = min_y - margin, max_y + margin\n",
    "    adjusted_contour = contour - np.array([[min_x, min_y]])\n",
    "    image_width = max_x - min_x + 1\n",
    "    image_height = max_y - min_y + 1\n",
    "    image = np.zeros((image_height, image_width), dtype=np.uint8)\n",
    "    cv2.drawContours(image, [adjusted_contour], -1, 255, thickness=1)\n",
    "    plt.imshow(image, cmap='gray')\n",
    "    plt.title(\"Contour Visualization\")\n",
    "    plt.axis(\"off\")\n",
    "    plt.show()"
   ]
  },
  {
   "cell_type": "code",
   "execution_count": 62,
   "metadata": {},
   "outputs": [
    {
     "data": {
      "image/png": "[encoded data removed]",
      "text/plain": [
       "<Figure size 640x480 with 1 Axes>"
      ]
     },
     "metadata": {},
     "output_type": "display_data"
    }
   ],
   "source": [
    "id = 34\n",
    "focus = test_contours[id]\n",
    "\n",
    "\n",
    "view_contour(focus)"
   ]
  },
  {
   "cell_type": "code",
   "execution_count": 57,
   "metadata": {},
   "outputs": [],
   "source": [
    "def create_binary_mask(gene_coords, x_range, y_range, threshold=1):\n",
    "    # Create KDTree from gene coordinates\n",
    "    tree = KDTree(gene_coords)\n",
    "    \n",
    "    # Create an empty mask\n",
    "    width, height = x_range[1] - x_range[0], y_range[1] - y_range[0]\n",
    "    mask = np.zeros((height, width), dtype=np.uint8)\n",
    "    \n",
    "    # Generate grid points in the specified range\n",
    "    for y in range(y_range[0], y_range[1]):\n",
    "        for x in range(x_range[0], x_range[1]):\n",
    "            # Query the KDTree for the nearest gene\n",
    "            dist, _ = tree.query([x, y], k=1)\n",
    "            if dist < threshold:\n",
    "                mask[y - y_range[0], x - x_range[0]] = 255  # Set white for nearby genes\n",
    "    \n",
    "    return mask"
   ]
  },
  {
   "cell_type": "code",
   "execution_count": 61,
   "metadata": {},
   "outputs": [
    {
     "data": {
      "image/png": "[encoded data removed]",
      "text/plain": [
       "<Figure size 640x480 with 1 Axes>"
      ]
     },
     "metadata": {},
     "output_type": "display_data"
    }
   ],
   "source": [
    "geneID_subset = comparator.origin_df.loc[comparator.origin_df['geneID']=='MT-RNR2']\n",
    "gene_coords = geneID_subset[['x', 'y']].to_numpy()\n",
    "\n",
    "#gene_coords = np.array([[10, 10], [15, 20], [50, 60], [70, 80]])  # Example gene coordinates\n",
    "x_range, y_range = (0, 1000), (0, 1000)\n",
    "binary_mask = create_binary_mask(gene_coords, x_range, y_range)\n",
    "\n",
    "# Display the mask\n",
    "plt.imshow(binary_mask, cmap='gray')\n",
    "plt.title(\"Gene Presence Binary Mask\")\n",
    "plt.axis(\"off\")\n",
    "plt.show()"
   ]
  },
  {
   "cell_type": "code",
   "execution_count": null,
   "metadata": {},
   "outputs": [],
   "source": []
  }
 ],
 "metadata": {
  "kernelspec": {
   "display_name": "vision-env",
   "language": "python",
   "name": "python3"
  },
  "language_info": {
   "codemirror_mode": {
    "name": "ipython",
    "version": 3
   },
   "file_extension": ".py",
   "mimetype": "text/x-python",
   "name": "python",
   "nbconvert_exporter": "python",
   "pygments_lexer": "ipython3",
   "version": "3.12.3"
  }
 },
 "nbformat": 4,
 "nbformat_minor": 2
}
